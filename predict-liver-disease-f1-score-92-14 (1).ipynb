{
 "cells": [
  {
   "cell_type": "code",
   "execution_count": 1,
   "id": "a32c768b",
   "metadata": {
    "_cell_guid": "b1076dfc-b9ad-4769-8c92-a6c4dae69d19",
    "_uuid": "8f2839f25d086af736a60e9eeb907d3b93b6e0e5",
    "execution": {
     "iopub.execute_input": "2024-06-13T04:33:05.716056Z",
     "iopub.status.busy": "2024-06-13T04:33:05.715561Z",
     "iopub.status.idle": "2024-06-13T04:33:27.906980Z",
     "shell.execute_reply": "2024-06-13T04:33:27.905869Z"
    },
    "papermill": {
     "duration": 22.208819,
     "end_time": "2024-06-13T04:33:27.910159",
     "exception": false,
     "start_time": "2024-06-13T04:33:05.701340",
     "status": "completed"
    },
    "tags": []
   },
   "outputs": [
    {
     "ename": "ModuleNotFoundError",
     "evalue": "No module named 'catboost'",
     "output_type": "error",
     "traceback": [
      "\u001b[1;31m---------------------------------------------------------------------------\u001b[0m",
      "\u001b[1;31mModuleNotFoundError\u001b[0m                       Traceback (most recent call last)",
      "Cell \u001b[1;32mIn[1], line 32\u001b[0m\n\u001b[0;32m     30\u001b[0m \u001b[38;5;28;01mimport\u001b[39;00m \u001b[38;5;21;01mxgboost\u001b[39;00m \u001b[38;5;28;01mas\u001b[39;00m \u001b[38;5;21;01mxgb\u001b[39;00m\n\u001b[0;32m     31\u001b[0m \u001b[38;5;28;01mfrom\u001b[39;00m \u001b[38;5;21;01mlightgbm\u001b[39;00m \u001b[38;5;28;01mimport\u001b[39;00m LGBMRegressor, LGBMClassifier\n\u001b[1;32m---> 32\u001b[0m \u001b[38;5;28;01mfrom\u001b[39;00m \u001b[38;5;21;01mcatboost\u001b[39;00m \u001b[38;5;28;01mimport\u001b[39;00m CatBoostClassifier\n\u001b[0;32m     34\u001b[0m \u001b[38;5;28;01mimport\u001b[39;00m \u001b[38;5;21;01mtensorflow\u001b[39;00m \u001b[38;5;28;01mas\u001b[39;00m \u001b[38;5;21;01mtf\u001b[39;00m\n\u001b[0;32m     35\u001b[0m \u001b[38;5;28;01mfrom\u001b[39;00m \u001b[38;5;21;01mtensorflow\u001b[39;00m\u001b[38;5;21;01m.\u001b[39;00m\u001b[38;5;21;01mkeras\u001b[39;00m \u001b[38;5;28;01mimport\u001b[39;00m Sequential\n",
      "\u001b[1;31mModuleNotFoundError\u001b[0m: No module named 'catboost'"
     ]
    }
   ],
   "source": [
    "# This Python 3 environment comes with many helpful analytics libraries installed\n",
    "# It is defined by the kaggle/python Docker image: https://github.com/kaggle/docker-python\n",
    "# For example, here's several helpful packages to load\n",
    "\n",
    "import numpy as np # linear algebra\n",
    "import pandas as pd # data processing, CSV file I/O (e.g. pd.read_csv)\n",
    "\n",
    "# Input data files are available in the read-only \"../input/\" directory\n",
    "# For example, running this (by clicking run or pressing Shift+Enter) will list all files under the input directory\n",
    "import os\n",
    "from sklearn.preprocessing import OrdinalEncoder\n",
    "from sklearn.preprocessing import OneHotEncoder\n",
    "from sklearn.preprocessing import LabelEncoder\n",
    "\n",
    "import plotly.express as px\n",
    "import plotly.graph_objects as go\n",
    "import matplotlib.pyplot as plt\n",
    "from sklearn.preprocessing import StandardScaler\n",
    "\n",
    "import torch\n",
    "import torch.nn as nn\n",
    "import torch.optim as optim\n",
    "import torch.utils.data as data\n",
    "from sklearn.model_selection import train_test_split\n",
    "from sklearn.svm import SVR\n",
    "from sklearn.pipeline import make_pipeline\n",
    "from sklearn.impute import SimpleImputer\n",
    "from sklearn.metrics import *\n",
    "from sklearn import preprocessing\n",
    "import xgboost as xgb\n",
    "from lightgbm import LGBMRegressor, LGBMClassifier\n",
    "from catboost import CatBoostClassifier\n",
    "\n",
    "import tensorflow as tf\n",
    "from tensorflow.keras import Sequential\n",
    "from tensorflow.keras.layers import Dense, Input, Flatten, Conv2D, MaxPool2D, GRU, InputLayer\n",
    "from tensorflow.keras.losses import MeanSquaredError\n",
    "from keras.callbacks import ReduceLROnPlateau, EarlyStopping\n",
    "import seaborn as sns\n",
    "\n",
    "# You can write up to 20GB to the current directory (/kaggle/working/) that gets preserved as output when you create a version using \"Save & Run All\" \n",
    "# You can also write temporary files to /kaggle/temp/, but they won't be saved outside of the current session"
   ]
  },
  {
   "cell_type": "code",
   "execution_count": 2,
   "id": "893edf93",
   "metadata": {
    "execution": {
     "iopub.execute_input": "2024-06-13T04:33:27.937212Z",
     "iopub.status.busy": "2024-06-13T04:33:27.936294Z",
     "iopub.status.idle": "2024-06-13T04:33:27.967022Z",
     "shell.execute_reply": "2024-06-13T04:33:27.965795Z"
    },
    "papermill": {
     "duration": 0.047107,
     "end_time": "2024-06-13T04:33:27.969930",
     "exception": false,
     "start_time": "2024-06-13T04:33:27.922823",
     "status": "completed"
    },
    "tags": []
   },
   "outputs": [],
   "source": [
    "train = pd.read_csv(\"Liver_disease_data.csv\")"
   ]
  },
  {
   "cell_type": "code",
   "execution_count": 3,
   "id": "ccb228d1",
   "metadata": {
    "execution": {
     "iopub.execute_input": "2024-06-13T04:33:27.995658Z",
     "iopub.status.busy": "2024-06-13T04:33:27.995207Z",
     "iopub.status.idle": "2024-06-13T04:33:28.025059Z",
     "shell.execute_reply": "2024-06-13T04:33:28.023793Z"
    },
    "papermill": {
     "duration": 0.046015,
     "end_time": "2024-06-13T04:33:28.028085",
     "exception": false,
     "start_time": "2024-06-13T04:33:27.982070",
     "status": "completed"
    },
    "tags": []
   },
   "outputs": [
    {
     "data": {
      "text/html": [
       "<div>\n",
       "<style scoped>\n",
       "    .dataframe tbody tr th:only-of-type {\n",
       "        vertical-align: middle;\n",
       "    }\n",
       "\n",
       "    .dataframe tbody tr th {\n",
       "        vertical-align: top;\n",
       "    }\n",
       "\n",
       "    .dataframe thead th {\n",
       "        text-align: right;\n",
       "    }\n",
       "</style>\n",
       "<table border=\"1\" class=\"dataframe\">\n",
       "  <thead>\n",
       "    <tr style=\"text-align: right;\">\n",
       "      <th></th>\n",
       "      <th>Age</th>\n",
       "      <th>Gender</th>\n",
       "      <th>BMI</th>\n",
       "      <th>AlcoholConsumption</th>\n",
       "      <th>Smoking</th>\n",
       "      <th>GeneticRisk</th>\n",
       "      <th>PhysicalActivity</th>\n",
       "      <th>Diabetes</th>\n",
       "      <th>Hypertension</th>\n",
       "      <th>LiverFunctionTest</th>\n",
       "      <th>Diagnosis</th>\n",
       "    </tr>\n",
       "  </thead>\n",
       "  <tbody>\n",
       "    <tr>\n",
       "      <th>0</th>\n",
       "      <td>58</td>\n",
       "      <td>0</td>\n",
       "      <td>35.857584</td>\n",
       "      <td>17.272828</td>\n",
       "      <td>0</td>\n",
       "      <td>1</td>\n",
       "      <td>0.658940</td>\n",
       "      <td>0</td>\n",
       "      <td>0</td>\n",
       "      <td>42.734240</td>\n",
       "      <td>1</td>\n",
       "    </tr>\n",
       "    <tr>\n",
       "      <th>1</th>\n",
       "      <td>71</td>\n",
       "      <td>1</td>\n",
       "      <td>30.732470</td>\n",
       "      <td>2.201266</td>\n",
       "      <td>0</td>\n",
       "      <td>1</td>\n",
       "      <td>1.670557</td>\n",
       "      <td>1</td>\n",
       "      <td>0</td>\n",
       "      <td>67.309822</td>\n",
       "      <td>1</td>\n",
       "    </tr>\n",
       "    <tr>\n",
       "      <th>2</th>\n",
       "      <td>48</td>\n",
       "      <td>0</td>\n",
       "      <td>19.971407</td>\n",
       "      <td>18.500944</td>\n",
       "      <td>0</td>\n",
       "      <td>0</td>\n",
       "      <td>9.928308</td>\n",
       "      <td>0</td>\n",
       "      <td>0</td>\n",
       "      <td>63.738956</td>\n",
       "      <td>0</td>\n",
       "    </tr>\n",
       "    <tr>\n",
       "      <th>3</th>\n",
       "      <td>34</td>\n",
       "      <td>1</td>\n",
       "      <td>16.615417</td>\n",
       "      <td>12.632870</td>\n",
       "      <td>0</td>\n",
       "      <td>0</td>\n",
       "      <td>5.630129</td>\n",
       "      <td>0</td>\n",
       "      <td>0</td>\n",
       "      <td>64.555873</td>\n",
       "      <td>1</td>\n",
       "    </tr>\n",
       "    <tr>\n",
       "      <th>4</th>\n",
       "      <td>62</td>\n",
       "      <td>1</td>\n",
       "      <td>16.065830</td>\n",
       "      <td>1.087815</td>\n",
       "      <td>0</td>\n",
       "      <td>1</td>\n",
       "      <td>3.566218</td>\n",
       "      <td>1</td>\n",
       "      <td>0</td>\n",
       "      <td>77.868689</td>\n",
       "      <td>1</td>\n",
       "    </tr>\n",
       "  </tbody>\n",
       "</table>\n",
       "</div>"
      ],
      "text/plain": [
       "   Age  Gender        BMI  AlcoholConsumption  Smoking  GeneticRisk  \\\n",
       "0   58       0  35.857584           17.272828        0            1   \n",
       "1   71       1  30.732470            2.201266        0            1   \n",
       "2   48       0  19.971407           18.500944        0            0   \n",
       "3   34       1  16.615417           12.632870        0            0   \n",
       "4   62       1  16.065830            1.087815        0            1   \n",
       "\n",
       "   PhysicalActivity  Diabetes  Hypertension  LiverFunctionTest  Diagnosis  \n",
       "0          0.658940         0             0          42.734240          1  \n",
       "1          1.670557         1             0          67.309822          1  \n",
       "2          9.928308         0             0          63.738956          0  \n",
       "3          5.630129         0             0          64.555873          1  \n",
       "4          3.566218         1             0          77.868689          1  "
      ]
     },
     "execution_count": 3,
     "metadata": {},
     "output_type": "execute_result"
    }
   ],
   "source": [
    "train.head()"
   ]
  },
  {
   "cell_type": "code",
   "execution_count": 4,
   "id": "b2be7f17",
   "metadata": {
    "execution": {
     "iopub.execute_input": "2024-06-13T04:33:28.055101Z",
     "iopub.status.busy": "2024-06-13T04:33:28.054002Z",
     "iopub.status.idle": "2024-06-13T04:33:28.067468Z",
     "shell.execute_reply": "2024-06-13T04:33:28.065775Z"
    },
    "papermill": {
     "duration": 0.029707,
     "end_time": "2024-06-13T04:33:28.070173",
     "exception": false,
     "start_time": "2024-06-13T04:33:28.040466",
     "status": "completed"
    },
    "tags": []
   },
   "outputs": [
    {
     "name": "stdout",
     "output_type": "stream",
     "text": [
      "Column Age: 0 null values/type: int64\n",
      "Column Gender: 0 null values/type: int64\n",
      "Column BMI: 0 null values/type: float64\n",
      "Column AlcoholConsumption: 0 null values/type: float64\n",
      "Column Smoking: 0 null values/type: int64\n",
      "Column GeneticRisk: 0 null values/type: int64\n",
      "Column PhysicalActivity: 0 null values/type: float64\n",
      "Column Diabetes: 0 null values/type: int64\n",
      "Column Hypertension: 0 null values/type: int64\n",
      "Column LiverFunctionTest: 0 null values/type: float64\n",
      "Column Diagnosis: 0 null values/type: int64\n"
     ]
    }
   ],
   "source": [
    "for column in train:\n",
    "    print(f\"Column {column}: {train[column].isnull().sum()} null values/type:\",train[column].dtype)"
   ]
  },
  {
   "cell_type": "code",
   "execution_count": 5,
   "id": "1685f3be",
   "metadata": {
    "execution": {
     "iopub.execute_input": "2024-06-13T04:33:28.096654Z",
     "iopub.status.busy": "2024-06-13T04:33:28.096171Z",
     "iopub.status.idle": "2024-06-13T04:33:28.104781Z",
     "shell.execute_reply": "2024-06-13T04:33:28.103684Z"
    },
    "papermill": {
     "duration": 0.024825,
     "end_time": "2024-06-13T04:33:28.107482",
     "exception": false,
     "start_time": "2024-06-13T04:33:28.082657",
     "status": "completed"
    },
    "tags": []
   },
   "outputs": [],
   "source": [
    "train = train.values #returns a numpy array\n",
    "min_max_scaler = preprocessing.MinMaxScaler()\n",
    "x_scaled = min_max_scaler.fit_transform(train)\n",
    "train = pd.DataFrame(x_scaled)"
   ]
  },
  {
   "cell_type": "code",
   "execution_count": 6,
   "id": "76272b89",
   "metadata": {
    "execution": {
     "iopub.execute_input": "2024-06-13T04:33:28.134352Z",
     "iopub.status.busy": "2024-06-13T04:33:28.133363Z",
     "iopub.status.idle": "2024-06-13T04:33:28.164881Z",
     "shell.execute_reply": "2024-06-13T04:33:28.163706Z"
    },
    "papermill": {
     "duration": 0.047226,
     "end_time": "2024-06-13T04:33:28.167223",
     "exception": false,
     "start_time": "2024-06-13T04:33:28.119997",
     "status": "completed"
    },
    "tags": []
   },
   "outputs": [
    {
     "data": {
      "text/html": [
       "<div>\n",
       "<style scoped>\n",
       "    .dataframe tbody tr th:only-of-type {\n",
       "        vertical-align: middle;\n",
       "    }\n",
       "\n",
       "    .dataframe tbody tr th {\n",
       "        vertical-align: top;\n",
       "    }\n",
       "\n",
       "    .dataframe thead th {\n",
       "        text-align: right;\n",
       "    }\n",
       "</style>\n",
       "<table border=\"1\" class=\"dataframe\">\n",
       "  <thead>\n",
       "    <tr style=\"text-align: right;\">\n",
       "      <th></th>\n",
       "      <th>0</th>\n",
       "      <th>1</th>\n",
       "      <th>2</th>\n",
       "      <th>3</th>\n",
       "      <th>4</th>\n",
       "      <th>5</th>\n",
       "      <th>6</th>\n",
       "      <th>7</th>\n",
       "      <th>8</th>\n",
       "      <th>9</th>\n",
       "      <th>10</th>\n",
       "    </tr>\n",
       "  </thead>\n",
       "  <tbody>\n",
       "    <tr>\n",
       "      <th>0</th>\n",
       "      <td>0.633333</td>\n",
       "      <td>0.0</td>\n",
       "      <td>0.834511</td>\n",
       "      <td>0.865674</td>\n",
       "      <td>0.0</td>\n",
       "      <td>0.5</td>\n",
       "      <td>0.065754</td>\n",
       "      <td>0.0</td>\n",
       "      <td>0.0</td>\n",
       "      <td>0.284036</td>\n",
       "      <td>1.0</td>\n",
       "    </tr>\n",
       "    <tr>\n",
       "      <th>1</th>\n",
       "      <td>0.850000</td>\n",
       "      <td>1.0</td>\n",
       "      <td>0.629409</td>\n",
       "      <td>0.110159</td>\n",
       "      <td>0.0</td>\n",
       "      <td>0.5</td>\n",
       "      <td>0.166986</td>\n",
       "      <td>1.0</td>\n",
       "      <td>0.0</td>\n",
       "      <td>0.591338</td>\n",
       "      <td>1.0</td>\n",
       "    </tr>\n",
       "    <tr>\n",
       "      <th>2</th>\n",
       "      <td>0.466667</td>\n",
       "      <td>0.0</td>\n",
       "      <td>0.198762</td>\n",
       "      <td>0.927238</td>\n",
       "      <td>0.0</td>\n",
       "      <td>0.0</td>\n",
       "      <td>0.993330</td>\n",
       "      <td>0.0</td>\n",
       "      <td>0.0</td>\n",
       "      <td>0.546687</td>\n",
       "      <td>0.0</td>\n",
       "    </tr>\n",
       "    <tr>\n",
       "      <th>3</th>\n",
       "      <td>0.233333</td>\n",
       "      <td>1.0</td>\n",
       "      <td>0.064459</td>\n",
       "      <td>0.633080</td>\n",
       "      <td>0.0</td>\n",
       "      <td>0.0</td>\n",
       "      <td>0.563216</td>\n",
       "      <td>0.0</td>\n",
       "      <td>0.0</td>\n",
       "      <td>0.556902</td>\n",
       "      <td>1.0</td>\n",
       "    </tr>\n",
       "    <tr>\n",
       "      <th>4</th>\n",
       "      <td>0.700000</td>\n",
       "      <td>1.0</td>\n",
       "      <td>0.042465</td>\n",
       "      <td>0.054344</td>\n",
       "      <td>0.0</td>\n",
       "      <td>0.5</td>\n",
       "      <td>0.356682</td>\n",
       "      <td>1.0</td>\n",
       "      <td>0.0</td>\n",
       "      <td>0.723370</td>\n",
       "      <td>1.0</td>\n",
       "    </tr>\n",
       "    <tr>\n",
       "      <th>...</th>\n",
       "      <td>...</td>\n",
       "      <td>...</td>\n",
       "      <td>...</td>\n",
       "      <td>...</td>\n",
       "      <td>...</td>\n",
       "      <td>...</td>\n",
       "      <td>...</td>\n",
       "      <td>...</td>\n",
       "      <td>...</td>\n",
       "      <td>...</td>\n",
       "      <td>...</td>\n",
       "    </tr>\n",
       "    <tr>\n",
       "      <th>1695</th>\n",
       "      <td>0.366667</td>\n",
       "      <td>0.0</td>\n",
       "      <td>0.940190</td>\n",
       "      <td>0.720896</td>\n",
       "      <td>0.0</td>\n",
       "      <td>0.5</td>\n",
       "      <td>0.099112</td>\n",
       "      <td>0.0</td>\n",
       "      <td>0.0</td>\n",
       "      <td>0.974273</td>\n",
       "      <td>1.0</td>\n",
       "    </tr>\n",
       "    <tr>\n",
       "      <th>1696</th>\n",
       "      <td>0.333333</td>\n",
       "      <td>0.0</td>\n",
       "      <td>0.504055</td>\n",
       "      <td>0.272061</td>\n",
       "      <td>0.0</td>\n",
       "      <td>0.0</td>\n",
       "      <td>0.839442</td>\n",
       "      <td>0.0</td>\n",
       "      <td>0.0</td>\n",
       "      <td>0.628235</td>\n",
       "      <td>1.0</td>\n",
       "    </tr>\n",
       "    <tr>\n",
       "      <th>1697</th>\n",
       "      <td>0.300000</td>\n",
       "      <td>0.0</td>\n",
       "      <td>0.949463</td>\n",
       "      <td>0.316841</td>\n",
       "      <td>1.0</td>\n",
       "      <td>1.0</td>\n",
       "      <td>0.931879</td>\n",
       "      <td>0.0</td>\n",
       "      <td>1.0</td>\n",
       "      <td>0.450583</td>\n",
       "      <td>1.0</td>\n",
       "    </tr>\n",
       "    <tr>\n",
       "      <th>1698</th>\n",
       "      <td>0.783333</td>\n",
       "      <td>0.0</td>\n",
       "      <td>0.833039</td>\n",
       "      <td>0.846956</td>\n",
       "      <td>0.0</td>\n",
       "      <td>1.0</td>\n",
       "      <td>0.322482</td>\n",
       "      <td>0.0</td>\n",
       "      <td>0.0</td>\n",
       "      <td>0.078548</td>\n",
       "      <td>1.0</td>\n",
       "    </tr>\n",
       "    <tr>\n",
       "      <th>1699</th>\n",
       "      <td>1.000000</td>\n",
       "      <td>0.0</td>\n",
       "      <td>0.362415</td>\n",
       "      <td>0.477360</td>\n",
       "      <td>0.0</td>\n",
       "      <td>0.0</td>\n",
       "      <td>0.926596</td>\n",
       "      <td>0.0</td>\n",
       "      <td>1.0</td>\n",
       "      <td>0.669654</td>\n",
       "      <td>1.0</td>\n",
       "    </tr>\n",
       "  </tbody>\n",
       "</table>\n",
       "<p>1700 rows × 11 columns</p>\n",
       "</div>"
      ],
      "text/plain": [
       "            0    1         2         3    4    5         6    7    8   \\\n",
       "0     0.633333  0.0  0.834511  0.865674  0.0  0.5  0.065754  0.0  0.0   \n",
       "1     0.850000  1.0  0.629409  0.110159  0.0  0.5  0.166986  1.0  0.0   \n",
       "2     0.466667  0.0  0.198762  0.927238  0.0  0.0  0.993330  0.0  0.0   \n",
       "3     0.233333  1.0  0.064459  0.633080  0.0  0.0  0.563216  0.0  0.0   \n",
       "4     0.700000  1.0  0.042465  0.054344  0.0  0.5  0.356682  1.0  0.0   \n",
       "...        ...  ...       ...       ...  ...  ...       ...  ...  ...   \n",
       "1695  0.366667  0.0  0.940190  0.720896  0.0  0.5  0.099112  0.0  0.0   \n",
       "1696  0.333333  0.0  0.504055  0.272061  0.0  0.0  0.839442  0.0  0.0   \n",
       "1697  0.300000  0.0  0.949463  0.316841  1.0  1.0  0.931879  0.0  1.0   \n",
       "1698  0.783333  0.0  0.833039  0.846956  0.0  1.0  0.322482  0.0  0.0   \n",
       "1699  1.000000  0.0  0.362415  0.477360  0.0  0.0  0.926596  0.0  1.0   \n",
       "\n",
       "            9    10  \n",
       "0     0.284036  1.0  \n",
       "1     0.591338  1.0  \n",
       "2     0.546687  0.0  \n",
       "3     0.556902  1.0  \n",
       "4     0.723370  1.0  \n",
       "...        ...  ...  \n",
       "1695  0.974273  1.0  \n",
       "1696  0.628235  1.0  \n",
       "1697  0.450583  1.0  \n",
       "1698  0.078548  1.0  \n",
       "1699  0.669654  1.0  \n",
       "\n",
       "[1700 rows x 11 columns]"
      ]
     },
     "execution_count": 6,
     "metadata": {},
     "output_type": "execute_result"
    }
   ],
   "source": [
    "train"
   ]
  },
  {
   "cell_type": "code",
   "execution_count": 7,
   "id": "0c65e57d",
   "metadata": {
    "execution": {
     "iopub.execute_input": "2024-06-13T04:33:28.194980Z",
     "iopub.status.busy": "2024-06-13T04:33:28.193947Z",
     "iopub.status.idle": "2024-06-13T04:33:28.199814Z",
     "shell.execute_reply": "2024-06-13T04:33:28.198808Z"
    },
    "papermill": {
     "duration": 0.021913,
     "end_time": "2024-06-13T04:33:28.201948",
     "exception": false,
     "start_time": "2024-06-13T04:33:28.180035",
     "status": "completed"
    },
    "tags": []
   },
   "outputs": [],
   "source": [
    "X=train.loc[:,0:9]\n",
    "Y=train.loc[:,10]"
   ]
  },
  {
   "cell_type": "code",
   "execution_count": 8,
   "id": "a27035e8",
   "metadata": {
    "execution": {
     "iopub.execute_input": "2024-06-13T04:33:28.228727Z",
     "iopub.status.busy": "2024-06-13T04:33:28.227989Z",
     "iopub.status.idle": "2024-06-13T04:33:28.238407Z",
     "shell.execute_reply": "2024-06-13T04:33:28.237450Z"
    },
    "papermill": {
     "duration": 0.026448,
     "end_time": "2024-06-13T04:33:28.240748",
     "exception": false,
     "start_time": "2024-06-13T04:33:28.214300",
     "status": "completed"
    },
    "tags": []
   },
   "outputs": [],
   "source": [
    "X_train, X_test, y_train, y_test = train_test_split(X, Y, test_size=0.25, random_state=42)\n",
    "#X_train, X_val, y_train, y_val = train_test_split(X, Y, test_size=0.15, random_state=42)"
   ]
  },
  {
   "cell_type": "code",
   "execution_count": 9,
   "id": "93abaacc",
   "metadata": {
    "execution": {
     "iopub.execute_input": "2024-06-13T04:33:28.268273Z",
     "iopub.status.busy": "2024-06-13T04:33:28.267578Z",
     "iopub.status.idle": "2024-06-13T04:33:28.411091Z",
     "shell.execute_reply": "2024-06-13T04:33:28.410126Z"
    },
    "papermill": {
     "duration": 0.160131,
     "end_time": "2024-06-13T04:33:28.414070",
     "exception": false,
     "start_time": "2024-06-13T04:33:28.253939",
     "status": "completed"
    },
    "tags": []
   },
   "outputs": [],
   "source": [
    "model = xgb.XGBClassifier()\n",
    "\n",
    "#Training the model on the training data\n",
    "model.fit(X_train, y_train)\n",
    "\n",
    "#Making predictions on the test set\n",
    "y_pred = model.predict(X_test)"
   ]
  },
  {
   "cell_type": "code",
   "execution_count": 10,
   "id": "f18de236",
   "metadata": {
    "execution": {
     "iopub.execute_input": "2024-06-13T04:33:28.443707Z",
     "iopub.status.busy": "2024-06-13T04:33:28.442715Z",
     "iopub.status.idle": "2024-06-13T04:33:28.450504Z",
     "shell.execute_reply": "2024-06-13T04:33:28.449665Z"
    },
    "papermill": {
     "duration": 0.024155,
     "end_time": "2024-06-13T04:33:28.452620",
     "exception": false,
     "start_time": "2024-06-13T04:33:28.428465",
     "status": "completed"
    },
    "tags": []
   },
   "outputs": [],
   "source": [
    "cm = confusion_matrix(y_test,y_pred)"
   ]
  },
  {
   "cell_type": "code",
   "execution_count": 11,
   "id": "e09146b6",
   "metadata": {
    "execution": {
     "iopub.execute_input": "2024-06-13T04:33:28.479804Z",
     "iopub.status.busy": "2024-06-13T04:33:28.478824Z",
     "iopub.status.idle": "2024-06-13T04:33:28.485984Z",
     "shell.execute_reply": "2024-06-13T04:33:28.484983Z"
    },
    "papermill": {
     "duration": 0.023129,
     "end_time": "2024-06-13T04:33:28.488143",
     "exception": false,
     "start_time": "2024-06-13T04:33:28.465014",
     "status": "completed"
    },
    "tags": []
   },
   "outputs": [
    {
     "data": {
      "text/plain": [
       "array([[168,  25],\n",
       "       [ 27, 205]])"
      ]
     },
     "execution_count": 11,
     "metadata": {},
     "output_type": "execute_result"
    }
   ],
   "source": [
    "cm"
   ]
  },
  {
   "cell_type": "code",
   "execution_count": 12,
   "id": "30073196",
   "metadata": {
    "execution": {
     "iopub.execute_input": "2024-06-13T04:33:28.518065Z",
     "iopub.status.busy": "2024-06-13T04:33:28.517238Z",
     "iopub.status.idle": "2024-06-13T04:33:28.869174Z",
     "shell.execute_reply": "2024-06-13T04:33:28.868043Z"
    },
    "papermill": {
     "duration": 0.368986,
     "end_time": "2024-06-13T04:33:28.871627",
     "exception": false,
     "start_time": "2024-06-13T04:33:28.502641",
     "status": "completed"
    },
    "tags": []
   },
   "outputs": [
    {
     "data": {
      "text/plain": [
       "<Axes: >"
      ]
     },
     "execution_count": 12,
     "metadata": {},
     "output_type": "execute_result"
    },
    {
     "data": {
      "image/png": "[encoded data removed]",
      "text/plain": [
       "<Figure size 640x480 with 2 Axes>"
      ]
     },
     "metadata": {},
     "output_type": "display_data"
    }
   ],
   "source": [
    "sns.heatmap(cm,annot=True,fmt='g',linewidth=0.1,linecolor='black',xticklabels=['0','1'],yticklabels=['0','1'],\n",
    "            cmap=\"Blues\")"
   ]
  },
  {
   "cell_type": "code",
   "execution_count": 13,
   "id": "cc19b200",
   "metadata": {
    "execution": {
     "iopub.execute_input": "2024-06-13T04:33:28.901127Z",
     "iopub.status.busy": "2024-06-13T04:33:28.900668Z",
     "iopub.status.idle": "2024-06-13T04:33:28.917329Z",
     "shell.execute_reply": "2024-06-13T04:33:28.916006Z"
    },
    "papermill": {
     "duration": 0.034502,
     "end_time": "2024-06-13T04:33:28.919841",
     "exception": false,
     "start_time": "2024-06-13T04:33:28.885339",
     "status": "completed"
    },
    "tags": []
   },
   "outputs": [
    {
     "name": "stdout",
     "output_type": "stream",
     "text": [
      "0.8767126344445932\n",
      "0.8764214046822743\n",
      "0.8770435054493478\n"
     ]
    }
   ],
   "source": [
    "print(f1_score(y_test, y_pred, average=\"macro\"))\n",
    "print(precision_score(y_test, y_pred, average=\"macro\"))\n",
    "print(recall_score(y_test, y_pred, average=\"macro\"))"
   ]
  },
  {
   "cell_type": "code",
   "execution_count": 14,
   "id": "1de89a60",
   "metadata": {
    "execution": {
     "iopub.execute_input": "2024-06-13T04:33:28.950480Z",
     "iopub.status.busy": "2024-06-13T04:33:28.950022Z",
     "iopub.status.idle": "2024-06-13T04:33:29.091608Z",
     "shell.execute_reply": "2024-06-13T04:33:29.090520Z"
    },
    "papermill": {
     "duration": 0.160426,
     "end_time": "2024-06-13T04:33:29.094704",
     "exception": false,
     "start_time": "2024-06-13T04:33:28.934278",
     "status": "completed"
    },
    "tags": []
   },
   "outputs": [
    {
     "name": "stdout",
     "output_type": "stream",
     "text": [
      "[LightGBM] [Info] Number of positive: 704, number of negative: 571\n",
      "[LightGBM] [Info] Auto-choosing row-wise multi-threading, the overhead of testing was 0.001692 seconds.\n",
      "You can set `force_row_wise=true` to remove the overhead.\n",
      "And if memory is not enough, you can set `force_col_wise=true`.\n",
      "[LightGBM] [Info] Total Bins 1092\n",
      "[LightGBM] [Info] Number of data points in the train set: 1275, number of used features: 10\n",
      "[LightGBM] [Info] [binary:BoostFromScore]: pavg=0.552157 -> initscore=0.209389\n",
      "[LightGBM] [Info] Start training from score 0.209389\n"
     ]
    }
   ],
   "source": [
    "lgbm = LGBMClassifier(metric='auc') \n",
    "lgbm.fit(X_train, y_train) \n",
    "y_pred = lgbm.predict(X_test) "
   ]
  },
  {
   "cell_type": "code",
   "execution_count": 15,
   "id": "018cabb4",
   "metadata": {
    "execution": {
     "iopub.execute_input": "2024-06-13T04:33:29.125064Z",
     "iopub.status.busy": "2024-06-13T04:33:29.124643Z",
     "iopub.status.idle": "2024-06-13T04:33:29.133288Z",
     "shell.execute_reply": "2024-06-13T04:33:29.132221Z"
    },
    "papermill": {
     "duration": 0.02658,
     "end_time": "2024-06-13T04:33:29.135746",
     "exception": false,
     "start_time": "2024-06-13T04:33:29.109166",
     "status": "completed"
    },
    "tags": []
   },
   "outputs": [],
   "source": [
    "cm = confusion_matrix(y_test,y_pred)"
   ]
  },
  {
   "cell_type": "code",
   "execution_count": 16,
   "id": "5eb94231",
   "metadata": {
    "execution": {
     "iopub.execute_input": "2024-06-13T04:33:29.164302Z",
     "iopub.status.busy": "2024-06-13T04:33:29.163907Z",
     "iopub.status.idle": "2024-06-13T04:33:29.171671Z",
     "shell.execute_reply": "2024-06-13T04:33:29.170336Z"
    },
    "papermill": {
     "duration": 0.026125,
     "end_time": "2024-06-13T04:33:29.175495",
     "exception": false,
     "start_time": "2024-06-13T04:33:29.149370",
     "status": "completed"
    },
    "tags": []
   },
   "outputs": [
    {
     "data": {
      "text/plain": [
       "array([[167,  26],\n",
       "       [ 23, 209]])"
      ]
     },
     "execution_count": 16,
     "metadata": {},
     "output_type": "execute_result"
    }
   ],
   "source": [
    "cm"
   ]
  },
  {
   "cell_type": "code",
   "execution_count": 17,
   "id": "38652b58",
   "metadata": {
    "execution": {
     "iopub.execute_input": "2024-06-13T04:33:29.217543Z",
     "iopub.status.busy": "2024-06-13T04:33:29.217119Z",
     "iopub.status.idle": "2024-06-13T04:33:29.535282Z",
     "shell.execute_reply": "2024-06-13T04:33:29.533977Z"
    },
    "papermill": {
     "duration": 0.337825,
     "end_time": "2024-06-13T04:33:29.537863",
     "exception": false,
     "start_time": "2024-06-13T04:33:29.200038",
     "status": "completed"
    },
    "tags": []
   },
   "outputs": [
    {
     "data": {
      "text/plain": [
       "<Axes: >"
      ]
     },
     "execution_count": 17,
     "metadata": {},
     "output_type": "execute_result"
    },
    {
     "data": {
      "image/png": "[encoded data removed]",
      "text/plain": [
       "<Figure size 640x480 with 2 Axes>"
      ]
     },
     "metadata": {},
     "output_type": "display_data"
    }
   ],
   "source": [
    "sns.heatmap(cm,annot=True,fmt='g',linewidth=0.1,linecolor='black',xticklabels=['0','1'],yticklabels=['0','1'],\n",
    "            cmap=\"Blues\")"
   ]
  },
  {
   "cell_type": "code",
   "execution_count": 18,
   "id": "150a23dd",
   "metadata": {
    "execution": {
     "iopub.execute_input": "2024-06-13T04:33:29.568663Z",
     "iopub.status.busy": "2024-06-13T04:33:29.567710Z",
     "iopub.status.idle": "2024-06-13T04:33:29.584738Z",
     "shell.execute_reply": "2024-06-13T04:33:29.582854Z"
    },
    "papermill": {
     "duration": 0.035248,
     "end_time": "2024-06-13T04:33:29.587197",
     "exception": false,
     "start_time": "2024-06-13T04:33:29.551949",
     "status": "completed"
    },
    "tags": []
   },
   "outputs": [
    {
     "name": "stdout",
     "output_type": "stream",
     "text": [
      "0.8835688048260939\n",
      "0.8841545352743561\n",
      "0.8830735215293908\n"
     ]
    }
   ],
   "source": [
    "print(f1_score(y_test, y_pred, average=\"macro\"))\n",
    "print(precision_score(y_test, y_pred, average=\"macro\"))\n",
    "print(recall_score(y_test, y_pred, average=\"macro\"))"
   ]
  },
  {
   "cell_type": "code",
   "execution_count": 19,
   "id": "032db4a8",
   "metadata": {
    "execution": {
     "iopub.execute_input": "2024-06-13T04:33:29.617037Z",
     "iopub.status.busy": "2024-06-13T04:33:29.616665Z",
     "iopub.status.idle": "2024-06-13T04:33:31.677321Z",
     "shell.execute_reply": "2024-06-13T04:33:31.676257Z"
    },
    "papermill": {
     "duration": 2.079258,
     "end_time": "2024-06-13T04:33:31.680516",
     "exception": false,
     "start_time": "2024-06-13T04:33:29.601258",
     "status": "completed"
    },
    "tags": []
   },
   "outputs": [
    {
     "name": "stdout",
     "output_type": "stream",
     "text": [
      "0:\tlearn: 0.6845925\ttotal: 55.9ms\tremaining: 55.9s\n",
      "1:\tlearn: 0.6774211\ttotal: 58.3ms\tremaining: 29.1s\n",
      "2:\tlearn: 0.6706151\ttotal: 60.3ms\tremaining: 20s\n",
      "3:\tlearn: 0.6632894\ttotal: 62.2ms\tremaining: 15.5s\n",
      "4:\tlearn: 0.6568031\ttotal: 64.1ms\tremaining: 12.8s\n",
      "5:\tlearn: 0.6495235\ttotal: 65.8ms\tremaining: 10.9s\n",
      "6:\tlearn: 0.6431300\ttotal: 67.6ms\tremaining: 9.59s\n",
      "7:\tlearn: 0.6364196\ttotal: 69.3ms\tremaining: 8.59s\n",
      "8:\tlearn: 0.6295746\ttotal: 71.2ms\tremaining: 7.83s\n",
      "9:\tlearn: 0.6240442\ttotal: 72.9ms\tremaining: 7.22s\n",
      "10:\tlearn: 0.6186370\ttotal: 74.6ms\tremaining: 6.71s\n",
      "11:\tlearn: 0.6124251\ttotal: 76.3ms\tremaining: 6.29s\n",
      "12:\tlearn: 0.6066291\ttotal: 78.1ms\tremaining: 5.93s\n",
      "13:\tlearn: 0.6004861\ttotal: 79.9ms\tremaining: 5.63s\n",
      "14:\tlearn: 0.5956512\ttotal: 81.6ms\tremaining: 5.36s\n",
      "15:\tlearn: 0.5898793\ttotal: 83.3ms\tremaining: 5.12s\n",
      "16:\tlearn: 0.5859591\ttotal: 85.8ms\tremaining: 4.96s\n",
      "17:\tlearn: 0.5794809\ttotal: 88.7ms\tremaining: 4.84s\n",
      "18:\tlearn: 0.5743444\ttotal: 90.6ms\tremaining: 4.68s\n",
      "19:\tlearn: 0.5698961\ttotal: 92.3ms\tremaining: 4.52s\n",
      "20:\tlearn: 0.5654416\ttotal: 94ms\tremaining: 4.38s\n",
      "21:\tlearn: 0.5606208\ttotal: 95.9ms\tremaining: 4.26s\n",
      "22:\tlearn: 0.5552451\ttotal: 97.7ms\tremaining: 4.15s\n",
      "23:\tlearn: 0.5507658\ttotal: 99.5ms\tremaining: 4.05s\n",
      "24:\tlearn: 0.5461243\ttotal: 101ms\tremaining: 3.95s\n",
      "25:\tlearn: 0.5421464\ttotal: 103ms\tremaining: 3.86s\n",
      "26:\tlearn: 0.5375910\ttotal: 105ms\tremaining: 3.78s\n",
      "27:\tlearn: 0.5334145\ttotal: 107ms\tremaining: 3.7s\n",
      "28:\tlearn: 0.5296533\ttotal: 108ms\tremaining: 3.63s\n",
      "29:\tlearn: 0.5258298\ttotal: 110ms\tremaining: 3.56s\n",
      "30:\tlearn: 0.5217599\ttotal: 112ms\tremaining: 3.5s\n",
      "31:\tlearn: 0.5183325\ttotal: 114ms\tremaining: 3.44s\n",
      "32:\tlearn: 0.5139965\ttotal: 116ms\tremaining: 3.39s\n",
      "33:\tlearn: 0.5103485\ttotal: 117ms\tremaining: 3.34s\n",
      "34:\tlearn: 0.5065951\ttotal: 119ms\tremaining: 3.29s\n",
      "35:\tlearn: 0.5027288\ttotal: 121ms\tremaining: 3.24s\n",
      "36:\tlearn: 0.4985358\ttotal: 123ms\tremaining: 3.2s\n",
      "37:\tlearn: 0.4950889\ttotal: 125ms\tremaining: 3.15s\n",
      "38:\tlearn: 0.4910048\ttotal: 127ms\tremaining: 3.12s\n",
      "39:\tlearn: 0.4875294\ttotal: 129ms\tremaining: 3.08s\n",
      "40:\tlearn: 0.4844120\ttotal: 130ms\tremaining: 3.05s\n",
      "41:\tlearn: 0.4811584\ttotal: 132ms\tremaining: 3.02s\n",
      "42:\tlearn: 0.4785998\ttotal: 134ms\tremaining: 2.99s\n",
      "43:\tlearn: 0.4754634\ttotal: 136ms\tremaining: 2.96s\n",
      "44:\tlearn: 0.4727805\ttotal: 138ms\tremaining: 2.93s\n",
      "45:\tlearn: 0.4692550\ttotal: 140ms\tremaining: 2.9s\n",
      "46:\tlearn: 0.4653500\ttotal: 142ms\tremaining: 2.87s\n",
      "47:\tlearn: 0.4624887\ttotal: 143ms\tremaining: 2.85s\n",
      "48:\tlearn: 0.4594392\ttotal: 145ms\tremaining: 2.82s\n",
      "49:\tlearn: 0.4568018\ttotal: 147ms\tremaining: 2.79s\n",
      "50:\tlearn: 0.4540365\ttotal: 149ms\tremaining: 2.77s\n",
      "51:\tlearn: 0.4514301\ttotal: 151ms\tremaining: 2.75s\n",
      "52:\tlearn: 0.4480148\ttotal: 153ms\tremaining: 2.73s\n",
      "53:\tlearn: 0.4459707\ttotal: 155ms\tremaining: 2.71s\n",
      "54:\tlearn: 0.4432839\ttotal: 157ms\tremaining: 2.69s\n",
      "55:\tlearn: 0.4403712\ttotal: 159ms\tremaining: 2.67s\n",
      "56:\tlearn: 0.4375100\ttotal: 160ms\tremaining: 2.65s\n",
      "57:\tlearn: 0.4352944\ttotal: 162ms\tremaining: 2.63s\n",
      "58:\tlearn: 0.4322970\ttotal: 164ms\tremaining: 2.62s\n",
      "59:\tlearn: 0.4294967\ttotal: 166ms\tremaining: 2.6s\n",
      "60:\tlearn: 0.4274286\ttotal: 168ms\tremaining: 2.58s\n",
      "61:\tlearn: 0.4250786\ttotal: 170ms\tremaining: 2.56s\n",
      "62:\tlearn: 0.4233846\ttotal: 171ms\tremaining: 2.55s\n",
      "63:\tlearn: 0.4207861\ttotal: 173ms\tremaining: 2.53s\n",
      "64:\tlearn: 0.4183018\ttotal: 175ms\tremaining: 2.52s\n",
      "65:\tlearn: 0.4163010\ttotal: 177ms\tremaining: 2.5s\n",
      "66:\tlearn: 0.4144290\ttotal: 179ms\tremaining: 2.49s\n",
      "67:\tlearn: 0.4129866\ttotal: 180ms\tremaining: 2.47s\n",
      "68:\tlearn: 0.4109934\ttotal: 182ms\tremaining: 2.46s\n",
      "69:\tlearn: 0.4081942\ttotal: 184ms\tremaining: 2.45s\n",
      "70:\tlearn: 0.4062703\ttotal: 186ms\tremaining: 2.43s\n",
      "71:\tlearn: 0.4044796\ttotal: 188ms\tremaining: 2.42s\n",
      "72:\tlearn: 0.4023102\ttotal: 190ms\tremaining: 2.41s\n",
      "73:\tlearn: 0.4006071\ttotal: 192ms\tremaining: 2.4s\n",
      "74:\tlearn: 0.3994555\ttotal: 194ms\tremaining: 2.39s\n",
      "75:\tlearn: 0.3978525\ttotal: 195ms\tremaining: 2.38s\n",
      "76:\tlearn: 0.3959217\ttotal: 197ms\tremaining: 2.36s\n",
      "77:\tlearn: 0.3936803\ttotal: 199ms\tremaining: 2.35s\n",
      "78:\tlearn: 0.3924641\ttotal: 201ms\tremaining: 2.34s\n",
      "79:\tlearn: 0.3905410\ttotal: 203ms\tremaining: 2.33s\n",
      "80:\tlearn: 0.3881821\ttotal: 204ms\tremaining: 2.32s\n",
      "81:\tlearn: 0.3863817\ttotal: 206ms\tremaining: 2.31s\n",
      "82:\tlearn: 0.3845660\ttotal: 208ms\tremaining: 2.3s\n",
      "83:\tlearn: 0.3832942\ttotal: 210ms\tremaining: 2.29s\n",
      "84:\tlearn: 0.3817996\ttotal: 212ms\tremaining: 2.28s\n",
      "85:\tlearn: 0.3802786\ttotal: 214ms\tremaining: 2.27s\n",
      "86:\tlearn: 0.3786366\ttotal: 215ms\tremaining: 2.26s\n",
      "87:\tlearn: 0.3771989\ttotal: 217ms\tremaining: 2.25s\n",
      "88:\tlearn: 0.3755815\ttotal: 219ms\tremaining: 2.24s\n",
      "89:\tlearn: 0.3733854\ttotal: 221ms\tremaining: 2.23s\n",
      "90:\tlearn: 0.3722945\ttotal: 223ms\tremaining: 2.22s\n",
      "91:\tlearn: 0.3705282\ttotal: 224ms\tremaining: 2.21s\n",
      "92:\tlearn: 0.3690706\ttotal: 226ms\tremaining: 2.21s\n",
      "93:\tlearn: 0.3675009\ttotal: 228ms\tremaining: 2.2s\n",
      "94:\tlearn: 0.3662608\ttotal: 230ms\tremaining: 2.19s\n",
      "95:\tlearn: 0.3648405\ttotal: 232ms\tremaining: 2.18s\n",
      "96:\tlearn: 0.3636437\ttotal: 234ms\tremaining: 2.17s\n",
      "97:\tlearn: 0.3621269\ttotal: 236ms\tremaining: 2.17s\n",
      "98:\tlearn: 0.3603433\ttotal: 238ms\tremaining: 2.16s\n",
      "99:\tlearn: 0.3591096\ttotal: 239ms\tremaining: 2.15s\n",
      "100:\tlearn: 0.3578964\ttotal: 241ms\tremaining: 2.15s\n",
      "101:\tlearn: 0.3565842\ttotal: 243ms\tremaining: 2.14s\n",
      "102:\tlearn: 0.3549595\ttotal: 245ms\tremaining: 2.13s\n",
      "103:\tlearn: 0.3533876\ttotal: 248ms\tremaining: 2.13s\n",
      "104:\tlearn: 0.3521992\ttotal: 250ms\tremaining: 2.13s\n",
      "105:\tlearn: 0.3508702\ttotal: 252ms\tremaining: 2.13s\n",
      "106:\tlearn: 0.3498878\ttotal: 254ms\tremaining: 2.12s\n",
      "107:\tlearn: 0.3491812\ttotal: 256ms\tremaining: 2.12s\n",
      "108:\tlearn: 0.3480672\ttotal: 258ms\tremaining: 2.11s\n",
      "109:\tlearn: 0.3471125\ttotal: 260ms\tremaining: 2.1s\n",
      "110:\tlearn: 0.3457337\ttotal: 262ms\tremaining: 2.1s\n",
      "111:\tlearn: 0.3448914\ttotal: 264ms\tremaining: 2.09s\n",
      "112:\tlearn: 0.3441211\ttotal: 265ms\tremaining: 2.08s\n",
      "113:\tlearn: 0.3431988\ttotal: 267ms\tremaining: 2.08s\n",
      "114:\tlearn: 0.3419068\ttotal: 269ms\tremaining: 2.07s\n",
      "115:\tlearn: 0.3409562\ttotal: 271ms\tremaining: 2.07s\n",
      "116:\tlearn: 0.3399370\ttotal: 273ms\tremaining: 2.06s\n",
      "117:\tlearn: 0.3387212\ttotal: 275ms\tremaining: 2.05s\n",
      "118:\tlearn: 0.3380393\ttotal: 277ms\tremaining: 2.05s\n",
      "119:\tlearn: 0.3371023\ttotal: 280ms\tremaining: 2.05s\n",
      "120:\tlearn: 0.3359661\ttotal: 282ms\tremaining: 2.05s\n",
      "121:\tlearn: 0.3350436\ttotal: 284ms\tremaining: 2.04s\n",
      "122:\tlearn: 0.3335931\ttotal: 286ms\tremaining: 2.04s\n",
      "123:\tlearn: 0.3325804\ttotal: 287ms\tremaining: 2.03s\n",
      "124:\tlearn: 0.3318019\ttotal: 289ms\tremaining: 2.02s\n",
      "125:\tlearn: 0.3304805\ttotal: 291ms\tremaining: 2.02s\n",
      "126:\tlearn: 0.3296482\ttotal: 293ms\tremaining: 2.01s\n",
      "127:\tlearn: 0.3285356\ttotal: 295ms\tremaining: 2.01s\n",
      "128:\tlearn: 0.3275349\ttotal: 297ms\tremaining: 2s\n",
      "129:\tlearn: 0.3267679\ttotal: 299ms\tremaining: 2s\n",
      "130:\tlearn: 0.3255821\ttotal: 300ms\tremaining: 1.99s\n",
      "131:\tlearn: 0.3244511\ttotal: 303ms\tremaining: 1.99s\n",
      "132:\tlearn: 0.3234191\ttotal: 305ms\tremaining: 1.99s\n",
      "133:\tlearn: 0.3228313\ttotal: 307ms\tremaining: 1.98s\n",
      "134:\tlearn: 0.3216605\ttotal: 308ms\tremaining: 1.98s\n",
      "135:\tlearn: 0.3208598\ttotal: 310ms\tremaining: 1.97s\n",
      "136:\tlearn: 0.3195812\ttotal: 312ms\tremaining: 1.97s\n",
      "137:\tlearn: 0.3186401\ttotal: 314ms\tremaining: 1.96s\n",
      "138:\tlearn: 0.3178302\ttotal: 316ms\tremaining: 1.96s\n",
      "139:\tlearn: 0.3169283\ttotal: 318ms\tremaining: 1.95s\n",
      "140:\tlearn: 0.3162144\ttotal: 319ms\tremaining: 1.95s\n",
      "141:\tlearn: 0.3155115\ttotal: 321ms\tremaining: 1.94s\n",
      "142:\tlearn: 0.3144534\ttotal: 323ms\tremaining: 1.94s\n",
      "143:\tlearn: 0.3133196\ttotal: 325ms\tremaining: 1.93s\n",
      "144:\tlearn: 0.3122586\ttotal: 327ms\tremaining: 1.93s\n",
      "145:\tlearn: 0.3113971\ttotal: 329ms\tremaining: 1.92s\n",
      "146:\tlearn: 0.3103944\ttotal: 330ms\tremaining: 1.92s\n",
      "147:\tlearn: 0.3096613\ttotal: 332ms\tremaining: 1.91s\n",
      "148:\tlearn: 0.3085828\ttotal: 334ms\tremaining: 1.91s\n",
      "149:\tlearn: 0.3081467\ttotal: 336ms\tremaining: 1.9s\n",
      "150:\tlearn: 0.3073984\ttotal: 338ms\tremaining: 1.9s\n",
      "151:\tlearn: 0.3065971\ttotal: 339ms\tremaining: 1.89s\n",
      "152:\tlearn: 0.3054768\ttotal: 341ms\tremaining: 1.89s\n",
      "153:\tlearn: 0.3048510\ttotal: 343ms\tremaining: 1.89s\n",
      "154:\tlearn: 0.3042465\ttotal: 345ms\tremaining: 1.88s\n",
      "155:\tlearn: 0.3034769\ttotal: 347ms\tremaining: 1.88s\n",
      "156:\tlearn: 0.3028408\ttotal: 349ms\tremaining: 1.87s\n",
      "157:\tlearn: 0.3019676\ttotal: 351ms\tremaining: 1.87s\n",
      "158:\tlearn: 0.3016795\ttotal: 352ms\tremaining: 1.86s\n",
      "159:\tlearn: 0.3005910\ttotal: 354ms\tremaining: 1.86s\n",
      "160:\tlearn: 0.2998341\ttotal: 356ms\tremaining: 1.86s\n",
      "161:\tlearn: 0.2991490\ttotal: 358ms\tremaining: 1.85s\n",
      "162:\tlearn: 0.2982112\ttotal: 360ms\tremaining: 1.85s\n",
      "163:\tlearn: 0.2976331\ttotal: 362ms\tremaining: 1.84s\n",
      "164:\tlearn: 0.2968972\ttotal: 364ms\tremaining: 1.84s\n",
      "165:\tlearn: 0.2962485\ttotal: 366ms\tremaining: 1.84s\n",
      "166:\tlearn: 0.2955984\ttotal: 368ms\tremaining: 1.83s\n",
      "167:\tlearn: 0.2948847\ttotal: 370ms\tremaining: 1.83s\n",
      "168:\tlearn: 0.2942329\ttotal: 371ms\tremaining: 1.82s\n",
      "169:\tlearn: 0.2934059\ttotal: 373ms\tremaining: 1.82s\n",
      "170:\tlearn: 0.2926346\ttotal: 375ms\tremaining: 1.82s\n",
      "171:\tlearn: 0.2918986\ttotal: 377ms\tremaining: 1.81s\n",
      "172:\tlearn: 0.2915487\ttotal: 379ms\tremaining: 1.81s\n",
      "173:\tlearn: 0.2908648\ttotal: 381ms\tremaining: 1.81s\n",
      "174:\tlearn: 0.2901976\ttotal: 382ms\tremaining: 1.8s\n",
      "175:\tlearn: 0.2896337\ttotal: 384ms\tremaining: 1.8s\n",
      "176:\tlearn: 0.2890762\ttotal: 386ms\tremaining: 1.79s\n",
      "177:\tlearn: 0.2883398\ttotal: 388ms\tremaining: 1.79s\n",
      "178:\tlearn: 0.2878815\ttotal: 390ms\tremaining: 1.79s\n",
      "179:\tlearn: 0.2874426\ttotal: 392ms\tremaining: 1.78s\n",
      "180:\tlearn: 0.2869560\ttotal: 394ms\tremaining: 1.78s\n",
      "181:\tlearn: 0.2865189\ttotal: 395ms\tremaining: 1.78s\n",
      "182:\tlearn: 0.2856808\ttotal: 397ms\tremaining: 1.77s\n",
      "183:\tlearn: 0.2850563\ttotal: 399ms\tremaining: 1.77s\n",
      "184:\tlearn: 0.2842673\ttotal: 401ms\tremaining: 1.76s\n",
      "185:\tlearn: 0.2837867\ttotal: 402ms\tremaining: 1.76s\n",
      "186:\tlearn: 0.2834151\ttotal: 404ms\tremaining: 1.76s\n",
      "187:\tlearn: 0.2828759\ttotal: 406ms\tremaining: 1.75s\n",
      "188:\tlearn: 0.2823578\ttotal: 408ms\tremaining: 1.75s\n",
      "189:\tlearn: 0.2814599\ttotal: 410ms\tremaining: 1.75s\n",
      "190:\tlearn: 0.2808024\ttotal: 412ms\tremaining: 1.74s\n",
      "191:\tlearn: 0.2801326\ttotal: 414ms\tremaining: 1.74s\n",
      "192:\tlearn: 0.2791976\ttotal: 416ms\tremaining: 1.74s\n",
      "193:\tlearn: 0.2787212\ttotal: 417ms\tremaining: 1.73s\n",
      "194:\tlearn: 0.2782000\ttotal: 419ms\tremaining: 1.73s\n",
      "195:\tlearn: 0.2775750\ttotal: 421ms\tremaining: 1.73s\n",
      "196:\tlearn: 0.2771611\ttotal: 423ms\tremaining: 1.72s\n",
      "197:\tlearn: 0.2767057\ttotal: 425ms\tremaining: 1.72s\n",
      "198:\tlearn: 0.2760675\ttotal: 427ms\tremaining: 1.72s\n",
      "199:\tlearn: 0.2755916\ttotal: 429ms\tremaining: 1.71s\n",
      "200:\tlearn: 0.2751156\ttotal: 431ms\tremaining: 1.71s\n",
      "201:\tlearn: 0.2745853\ttotal: 432ms\tremaining: 1.71s\n",
      "202:\tlearn: 0.2741333\ttotal: 434ms\tremaining: 1.7s\n",
      "203:\tlearn: 0.2736580\ttotal: 436ms\tremaining: 1.7s\n",
      "204:\tlearn: 0.2730931\ttotal: 438ms\tremaining: 1.7s\n",
      "205:\tlearn: 0.2722437\ttotal: 443ms\tremaining: 1.71s\n",
      "206:\tlearn: 0.2717903\ttotal: 445ms\tremaining: 1.7s\n",
      "207:\tlearn: 0.2713929\ttotal: 446ms\tremaining: 1.7s\n",
      "208:\tlearn: 0.2707437\ttotal: 448ms\tremaining: 1.7s\n",
      "209:\tlearn: 0.2704232\ttotal: 450ms\tremaining: 1.69s\n",
      "210:\tlearn: 0.2700156\ttotal: 451ms\tremaining: 1.69s\n",
      "211:\tlearn: 0.2695827\ttotal: 453ms\tremaining: 1.68s\n",
      "212:\tlearn: 0.2692620\ttotal: 455ms\tremaining: 1.68s\n",
      "213:\tlearn: 0.2685269\ttotal: 457ms\tremaining: 1.68s\n",
      "214:\tlearn: 0.2682012\ttotal: 458ms\tremaining: 1.67s\n",
      "215:\tlearn: 0.2678656\ttotal: 460ms\tremaining: 1.67s\n",
      "216:\tlearn: 0.2673562\ttotal: 462ms\tremaining: 1.67s\n",
      "217:\tlearn: 0.2668783\ttotal: 463ms\tremaining: 1.66s\n",
      "218:\tlearn: 0.2664546\ttotal: 465ms\tremaining: 1.66s\n",
      "219:\tlearn: 0.2660655\ttotal: 467ms\tremaining: 1.65s\n",
      "220:\tlearn: 0.2657778\ttotal: 468ms\tremaining: 1.65s\n",
      "221:\tlearn: 0.2652939\ttotal: 470ms\tremaining: 1.65s\n",
      "222:\tlearn: 0.2648540\ttotal: 472ms\tremaining: 1.65s\n",
      "223:\tlearn: 0.2645157\ttotal: 474ms\tremaining: 1.64s\n",
      "224:\tlearn: 0.2641606\ttotal: 476ms\tremaining: 1.64s\n",
      "225:\tlearn: 0.2638223\ttotal: 478ms\tremaining: 1.64s\n",
      "226:\tlearn: 0.2632575\ttotal: 479ms\tremaining: 1.63s\n",
      "227:\tlearn: 0.2626990\ttotal: 481ms\tremaining: 1.63s\n",
      "228:\tlearn: 0.2622011\ttotal: 483ms\tremaining: 1.63s\n",
      "229:\tlearn: 0.2618571\ttotal: 484ms\tremaining: 1.62s\n",
      "230:\tlearn: 0.2615059\ttotal: 486ms\tremaining: 1.62s\n",
      "231:\tlearn: 0.2611560\ttotal: 488ms\tremaining: 1.61s\n",
      "232:\tlearn: 0.2606655\ttotal: 489ms\tremaining: 1.61s\n",
      "233:\tlearn: 0.2603737\ttotal: 491ms\tremaining: 1.61s\n",
      "234:\tlearn: 0.2600285\ttotal: 493ms\tremaining: 1.6s\n",
      "235:\tlearn: 0.2594832\ttotal: 494ms\tremaining: 1.6s\n",
      "236:\tlearn: 0.2591020\ttotal: 496ms\tremaining: 1.6s\n",
      "237:\tlearn: 0.2585911\ttotal: 498ms\tremaining: 1.59s\n",
      "238:\tlearn: 0.2582907\ttotal: 499ms\tremaining: 1.59s\n",
      "239:\tlearn: 0.2578849\ttotal: 501ms\tremaining: 1.59s\n",
      "240:\tlearn: 0.2574430\ttotal: 502ms\tremaining: 1.58s\n",
      "241:\tlearn: 0.2572088\ttotal: 504ms\tremaining: 1.58s\n",
      "242:\tlearn: 0.2568295\ttotal: 506ms\tremaining: 1.57s\n",
      "243:\tlearn: 0.2565263\ttotal: 507ms\tremaining: 1.57s\n",
      "244:\tlearn: 0.2561354\ttotal: 509ms\tremaining: 1.57s\n",
      "245:\tlearn: 0.2555312\ttotal: 511ms\tremaining: 1.56s\n",
      "246:\tlearn: 0.2552252\ttotal: 512ms\tremaining: 1.56s\n",
      "247:\tlearn: 0.2548807\ttotal: 514ms\tremaining: 1.56s\n",
      "248:\tlearn: 0.2545663\ttotal: 515ms\tremaining: 1.55s\n",
      "249:\tlearn: 0.2543248\ttotal: 517ms\tremaining: 1.55s\n",
      "250:\tlearn: 0.2540269\ttotal: 519ms\tremaining: 1.55s\n",
      "251:\tlearn: 0.2535526\ttotal: 520ms\tremaining: 1.54s\n",
      "252:\tlearn: 0.2531439\ttotal: 522ms\tremaining: 1.54s\n",
      "253:\tlearn: 0.2526799\ttotal: 523ms\tremaining: 1.54s\n",
      "254:\tlearn: 0.2524008\ttotal: 525ms\tremaining: 1.53s\n",
      "255:\tlearn: 0.2519174\ttotal: 527ms\tremaining: 1.53s\n",
      "256:\tlearn: 0.2514700\ttotal: 529ms\tremaining: 1.53s\n",
      "257:\tlearn: 0.2511227\ttotal: 530ms\tremaining: 1.52s\n",
      "258:\tlearn: 0.2507611\ttotal: 532ms\tremaining: 1.52s\n",
      "259:\tlearn: 0.2501884\ttotal: 534ms\tremaining: 1.52s\n",
      "260:\tlearn: 0.2498236\ttotal: 535ms\tremaining: 1.51s\n",
      "261:\tlearn: 0.2495309\ttotal: 537ms\tremaining: 1.51s\n",
      "262:\tlearn: 0.2491987\ttotal: 538ms\tremaining: 1.51s\n",
      "263:\tlearn: 0.2488344\ttotal: 540ms\tremaining: 1.51s\n",
      "264:\tlearn: 0.2483763\ttotal: 542ms\tremaining: 1.5s\n",
      "265:\tlearn: 0.2479685\ttotal: 543ms\tremaining: 1.5s\n",
      "266:\tlearn: 0.2475037\ttotal: 545ms\tremaining: 1.5s\n",
      "267:\tlearn: 0.2472151\ttotal: 547ms\tremaining: 1.49s\n",
      "268:\tlearn: 0.2466862\ttotal: 548ms\tremaining: 1.49s\n",
      "269:\tlearn: 0.2463360\ttotal: 550ms\tremaining: 1.49s\n",
      "270:\tlearn: 0.2459767\ttotal: 552ms\tremaining: 1.48s\n",
      "271:\tlearn: 0.2456669\ttotal: 553ms\tremaining: 1.48s\n",
      "272:\tlearn: 0.2454143\ttotal: 555ms\tremaining: 1.48s\n",
      "273:\tlearn: 0.2451316\ttotal: 557ms\tremaining: 1.48s\n",
      "274:\tlearn: 0.2447532\ttotal: 559ms\tremaining: 1.47s\n",
      "275:\tlearn: 0.2444132\ttotal: 560ms\tremaining: 1.47s\n",
      "276:\tlearn: 0.2440903\ttotal: 562ms\tremaining: 1.47s\n",
      "277:\tlearn: 0.2437317\ttotal: 563ms\tremaining: 1.46s\n",
      "278:\tlearn: 0.2434214\ttotal: 565ms\tremaining: 1.46s\n",
      "279:\tlearn: 0.2430643\ttotal: 567ms\tremaining: 1.46s\n",
      "280:\tlearn: 0.2428319\ttotal: 568ms\tremaining: 1.45s\n",
      "281:\tlearn: 0.2426525\ttotal: 570ms\tremaining: 1.45s\n",
      "282:\tlearn: 0.2424504\ttotal: 571ms\tremaining: 1.45s\n",
      "283:\tlearn: 0.2421465\ttotal: 573ms\tremaining: 1.44s\n",
      "284:\tlearn: 0.2418812\ttotal: 575ms\tremaining: 1.44s\n",
      "285:\tlearn: 0.2415527\ttotal: 577ms\tremaining: 1.44s\n",
      "286:\tlearn: 0.2412556\ttotal: 578ms\tremaining: 1.44s\n",
      "287:\tlearn: 0.2408346\ttotal: 580ms\tremaining: 1.43s\n",
      "288:\tlearn: 0.2405225\ttotal: 581ms\tremaining: 1.43s\n",
      "289:\tlearn: 0.2402513\ttotal: 583ms\tremaining: 1.43s\n",
      "290:\tlearn: 0.2400933\ttotal: 585ms\tremaining: 1.42s\n",
      "291:\tlearn: 0.2398564\ttotal: 586ms\tremaining: 1.42s\n",
      "292:\tlearn: 0.2393894\ttotal: 588ms\tremaining: 1.42s\n",
      "293:\tlearn: 0.2390480\ttotal: 590ms\tremaining: 1.42s\n",
      "294:\tlearn: 0.2384683\ttotal: 591ms\tremaining: 1.41s\n",
      "295:\tlearn: 0.2381234\ttotal: 593ms\tremaining: 1.41s\n",
      "296:\tlearn: 0.2378073\ttotal: 595ms\tremaining: 1.41s\n",
      "297:\tlearn: 0.2376054\ttotal: 597ms\tremaining: 1.41s\n",
      "298:\tlearn: 0.2373295\ttotal: 598ms\tremaining: 1.4s\n",
      "299:\tlearn: 0.2370433\ttotal: 600ms\tremaining: 1.4s\n",
      "300:\tlearn: 0.2367974\ttotal: 601ms\tremaining: 1.4s\n",
      "301:\tlearn: 0.2365343\ttotal: 603ms\tremaining: 1.39s\n",
      "302:\tlearn: 0.2362090\ttotal: 605ms\tremaining: 1.39s\n",
      "303:\tlearn: 0.2359506\ttotal: 606ms\tremaining: 1.39s\n",
      "304:\tlearn: 0.2356792\ttotal: 608ms\tremaining: 1.39s\n",
      "305:\tlearn: 0.2352303\ttotal: 609ms\tremaining: 1.38s\n",
      "306:\tlearn: 0.2349596\ttotal: 611ms\tremaining: 1.38s\n",
      "307:\tlearn: 0.2345280\ttotal: 613ms\tremaining: 1.38s\n",
      "308:\tlearn: 0.2341817\ttotal: 614ms\tremaining: 1.37s\n",
      "309:\tlearn: 0.2338062\ttotal: 616ms\tremaining: 1.37s\n",
      "310:\tlearn: 0.2334621\ttotal: 618ms\tremaining: 1.37s\n",
      "311:\tlearn: 0.2332487\ttotal: 619ms\tremaining: 1.36s\n",
      "312:\tlearn: 0.2329351\ttotal: 621ms\tremaining: 1.36s\n",
      "313:\tlearn: 0.2325431\ttotal: 623ms\tremaining: 1.36s\n",
      "314:\tlearn: 0.2322407\ttotal: 624ms\tremaining: 1.36s\n",
      "315:\tlearn: 0.2320098\ttotal: 626ms\tremaining: 1.35s\n",
      "316:\tlearn: 0.2315749\ttotal: 628ms\tremaining: 1.35s\n",
      "317:\tlearn: 0.2312317\ttotal: 630ms\tremaining: 1.35s\n",
      "318:\tlearn: 0.2309552\ttotal: 632ms\tremaining: 1.35s\n",
      "319:\tlearn: 0.2307235\ttotal: 634ms\tremaining: 1.35s\n",
      "320:\tlearn: 0.2304732\ttotal: 636ms\tremaining: 1.34s\n",
      "321:\tlearn: 0.2302171\ttotal: 638ms\tremaining: 1.34s\n",
      "322:\tlearn: 0.2298492\ttotal: 640ms\tremaining: 1.34s\n",
      "323:\tlearn: 0.2295910\ttotal: 641ms\tremaining: 1.34s\n",
      "324:\tlearn: 0.2293085\ttotal: 643ms\tremaining: 1.33s\n",
      "325:\tlearn: 0.2290820\ttotal: 644ms\tremaining: 1.33s\n",
      "326:\tlearn: 0.2287825\ttotal: 646ms\tremaining: 1.33s\n",
      "327:\tlearn: 0.2284329\ttotal: 647ms\tremaining: 1.32s\n",
      "328:\tlearn: 0.2281915\ttotal: 649ms\tremaining: 1.32s\n",
      "329:\tlearn: 0.2279568\ttotal: 651ms\tremaining: 1.32s\n",
      "330:\tlearn: 0.2279006\ttotal: 652ms\tremaining: 1.32s\n",
      "331:\tlearn: 0.2276260\ttotal: 654ms\tremaining: 1.31s\n",
      "332:\tlearn: 0.2274014\ttotal: 655ms\tremaining: 1.31s\n",
      "333:\tlearn: 0.2271514\ttotal: 659ms\tremaining: 1.31s\n",
      "334:\tlearn: 0.2268560\ttotal: 661ms\tremaining: 1.31s\n",
      "335:\tlearn: 0.2264691\ttotal: 663ms\tremaining: 1.31s\n",
      "336:\tlearn: 0.2262295\ttotal: 665ms\tremaining: 1.31s\n",
      "337:\tlearn: 0.2259106\ttotal: 666ms\tremaining: 1.3s\n",
      "338:\tlearn: 0.2256216\ttotal: 668ms\tremaining: 1.3s\n",
      "339:\tlearn: 0.2252632\ttotal: 669ms\tremaining: 1.3s\n",
      "340:\tlearn: 0.2248728\ttotal: 671ms\tremaining: 1.3s\n",
      "341:\tlearn: 0.2245858\ttotal: 673ms\tremaining: 1.29s\n",
      "342:\tlearn: 0.2243582\ttotal: 674ms\tremaining: 1.29s\n",
      "343:\tlearn: 0.2240340\ttotal: 676ms\tremaining: 1.29s\n",
      "344:\tlearn: 0.2237023\ttotal: 678ms\tremaining: 1.29s\n",
      "345:\tlearn: 0.2233388\ttotal: 680ms\tremaining: 1.28s\n",
      "346:\tlearn: 0.2227237\ttotal: 681ms\tremaining: 1.28s\n",
      "347:\tlearn: 0.2222932\ttotal: 683ms\tremaining: 1.28s\n",
      "348:\tlearn: 0.2219943\ttotal: 684ms\tremaining: 1.28s\n",
      "349:\tlearn: 0.2217932\ttotal: 686ms\tremaining: 1.27s\n",
      "350:\tlearn: 0.2216527\ttotal: 688ms\tremaining: 1.27s\n",
      "351:\tlearn: 0.2214513\ttotal: 691ms\tremaining: 1.27s\n",
      "352:\tlearn: 0.2211103\ttotal: 693ms\tremaining: 1.27s\n",
      "353:\tlearn: 0.2208305\ttotal: 694ms\tremaining: 1.27s\n",
      "354:\tlearn: 0.2203781\ttotal: 696ms\tremaining: 1.26s\n",
      "355:\tlearn: 0.2201322\ttotal: 697ms\tremaining: 1.26s\n",
      "356:\tlearn: 0.2199440\ttotal: 699ms\tremaining: 1.26s\n",
      "357:\tlearn: 0.2196233\ttotal: 701ms\tremaining: 1.26s\n",
      "358:\tlearn: 0.2192639\ttotal: 702ms\tremaining: 1.25s\n",
      "359:\tlearn: 0.2189699\ttotal: 704ms\tremaining: 1.25s\n",
      "360:\tlearn: 0.2187263\ttotal: 706ms\tremaining: 1.25s\n",
      "361:\tlearn: 0.2185069\ttotal: 708ms\tremaining: 1.25s\n",
      "362:\tlearn: 0.2182544\ttotal: 709ms\tremaining: 1.24s\n",
      "363:\tlearn: 0.2179188\ttotal: 711ms\tremaining: 1.24s\n",
      "364:\tlearn: 0.2177295\ttotal: 713ms\tremaining: 1.24s\n",
      "365:\tlearn: 0.2175470\ttotal: 715ms\tremaining: 1.24s\n",
      "366:\tlearn: 0.2172872\ttotal: 716ms\tremaining: 1.24s\n",
      "367:\tlearn: 0.2170628\ttotal: 718ms\tremaining: 1.23s\n",
      "368:\tlearn: 0.2166599\ttotal: 719ms\tremaining: 1.23s\n",
      "369:\tlearn: 0.2164070\ttotal: 721ms\tremaining: 1.23s\n",
      "370:\tlearn: 0.2162043\ttotal: 723ms\tremaining: 1.23s\n",
      "371:\tlearn: 0.2159742\ttotal: 725ms\tremaining: 1.22s\n",
      "372:\tlearn: 0.2158015\ttotal: 726ms\tremaining: 1.22s\n",
      "373:\tlearn: 0.2155840\ttotal: 728ms\tremaining: 1.22s\n",
      "374:\tlearn: 0.2153607\ttotal: 730ms\tremaining: 1.22s\n",
      "375:\tlearn: 0.2151801\ttotal: 732ms\tremaining: 1.21s\n",
      "376:\tlearn: 0.2149968\ttotal: 733ms\tremaining: 1.21s\n",
      "377:\tlearn: 0.2146813\ttotal: 735ms\tremaining: 1.21s\n",
      "378:\tlearn: 0.2142620\ttotal: 736ms\tremaining: 1.21s\n",
      "379:\tlearn: 0.2140922\ttotal: 738ms\tremaining: 1.2s\n",
      "380:\tlearn: 0.2138921\ttotal: 740ms\tremaining: 1.2s\n",
      "381:\tlearn: 0.2137443\ttotal: 741ms\tremaining: 1.2s\n",
      "382:\tlearn: 0.2135035\ttotal: 743ms\tremaining: 1.2s\n",
      "383:\tlearn: 0.2131262\ttotal: 745ms\tremaining: 1.19s\n",
      "384:\tlearn: 0.2129558\ttotal: 746ms\tremaining: 1.19s\n",
      "385:\tlearn: 0.2127234\ttotal: 748ms\tremaining: 1.19s\n",
      "386:\tlearn: 0.2124845\ttotal: 749ms\tremaining: 1.19s\n",
      "387:\tlearn: 0.2123830\ttotal: 751ms\tremaining: 1.18s\n",
      "388:\tlearn: 0.2121513\ttotal: 753ms\tremaining: 1.18s\n",
      "389:\tlearn: 0.2119271\ttotal: 755ms\tremaining: 1.18s\n",
      "390:\tlearn: 0.2116114\ttotal: 756ms\tremaining: 1.18s\n",
      "391:\tlearn: 0.2114047\ttotal: 758ms\tremaining: 1.18s\n",
      "392:\tlearn: 0.2112556\ttotal: 759ms\tremaining: 1.17s\n",
      "393:\tlearn: 0.2110743\ttotal: 761ms\tremaining: 1.17s\n",
      "394:\tlearn: 0.2107471\ttotal: 763ms\tremaining: 1.17s\n",
      "395:\tlearn: 0.2105400\ttotal: 764ms\tremaining: 1.17s\n",
      "396:\tlearn: 0.2103337\ttotal: 766ms\tremaining: 1.16s\n",
      "397:\tlearn: 0.2102074\ttotal: 767ms\tremaining: 1.16s\n",
      "398:\tlearn: 0.2100000\ttotal: 769ms\tremaining: 1.16s\n",
      "399:\tlearn: 0.2098708\ttotal: 771ms\tremaining: 1.16s\n",
      "400:\tlearn: 0.2095922\ttotal: 772ms\tremaining: 1.15s\n",
      "401:\tlearn: 0.2093830\ttotal: 774ms\tremaining: 1.15s\n",
      "402:\tlearn: 0.2091639\ttotal: 776ms\tremaining: 1.15s\n",
      "403:\tlearn: 0.2089142\ttotal: 777ms\tremaining: 1.15s\n",
      "404:\tlearn: 0.2087268\ttotal: 779ms\tremaining: 1.14s\n",
      "405:\tlearn: 0.2085614\ttotal: 781ms\tremaining: 1.14s\n",
      "406:\tlearn: 0.2083125\ttotal: 783ms\tremaining: 1.14s\n",
      "407:\tlearn: 0.2081713\ttotal: 784ms\tremaining: 1.14s\n",
      "408:\tlearn: 0.2079864\ttotal: 786ms\tremaining: 1.14s\n",
      "409:\tlearn: 0.2077937\ttotal: 788ms\tremaining: 1.13s\n",
      "410:\tlearn: 0.2074355\ttotal: 789ms\tremaining: 1.13s\n",
      "411:\tlearn: 0.2071322\ttotal: 791ms\tremaining: 1.13s\n",
      "412:\tlearn: 0.2070182\ttotal: 793ms\tremaining: 1.13s\n",
      "413:\tlearn: 0.2068264\ttotal: 794ms\tremaining: 1.12s\n",
      "414:\tlearn: 0.2066332\ttotal: 796ms\tremaining: 1.12s\n",
      "415:\tlearn: 0.2064626\ttotal: 798ms\tremaining: 1.12s\n",
      "416:\tlearn: 0.2061999\ttotal: 799ms\tremaining: 1.12s\n",
      "417:\tlearn: 0.2059079\ttotal: 801ms\tremaining: 1.11s\n",
      "418:\tlearn: 0.2057151\ttotal: 803ms\tremaining: 1.11s\n",
      "419:\tlearn: 0.2052272\ttotal: 804ms\tremaining: 1.11s\n",
      "420:\tlearn: 0.2049280\ttotal: 806ms\tremaining: 1.11s\n",
      "421:\tlearn: 0.2047342\ttotal: 808ms\tremaining: 1.11s\n",
      "422:\tlearn: 0.2045818\ttotal: 809ms\tremaining: 1.1s\n",
      "423:\tlearn: 0.2043375\ttotal: 811ms\tremaining: 1.1s\n",
      "424:\tlearn: 0.2041424\ttotal: 813ms\tremaining: 1.1s\n",
      "425:\tlearn: 0.2037550\ttotal: 814ms\tremaining: 1.1s\n",
      "426:\tlearn: 0.2036301\ttotal: 816ms\tremaining: 1.09s\n",
      "427:\tlearn: 0.2034698\ttotal: 818ms\tremaining: 1.09s\n",
      "428:\tlearn: 0.2032774\ttotal: 819ms\tremaining: 1.09s\n",
      "429:\tlearn: 0.2030412\ttotal: 821ms\tremaining: 1.09s\n",
      "430:\tlearn: 0.2028759\ttotal: 823ms\tremaining: 1.09s\n",
      "431:\tlearn: 0.2026813\ttotal: 825ms\tremaining: 1.08s\n",
      "432:\tlearn: 0.2024910\ttotal: 827ms\tremaining: 1.08s\n",
      "433:\tlearn: 0.2023551\ttotal: 830ms\tremaining: 1.08s\n",
      "434:\tlearn: 0.2021336\ttotal: 833ms\tremaining: 1.08s\n",
      "435:\tlearn: 0.2019725\ttotal: 834ms\tremaining: 1.08s\n",
      "436:\tlearn: 0.2018478\ttotal: 836ms\tremaining: 1.08s\n",
      "437:\tlearn: 0.2017067\ttotal: 838ms\tremaining: 1.07s\n",
      "438:\tlearn: 0.2015157\ttotal: 840ms\tremaining: 1.07s\n",
      "439:\tlearn: 0.2013895\ttotal: 841ms\tremaining: 1.07s\n",
      "440:\tlearn: 0.2012152\ttotal: 843ms\tremaining: 1.07s\n",
      "441:\tlearn: 0.2010877\ttotal: 845ms\tremaining: 1.07s\n",
      "442:\tlearn: 0.2009053\ttotal: 846ms\tremaining: 1.06s\n",
      "443:\tlearn: 0.2007891\ttotal: 848ms\tremaining: 1.06s\n",
      "444:\tlearn: 0.2005725\ttotal: 850ms\tremaining: 1.06s\n",
      "445:\tlearn: 0.2002727\ttotal: 853ms\tremaining: 1.06s\n",
      "446:\tlearn: 0.2000664\ttotal: 855ms\tremaining: 1.06s\n",
      "447:\tlearn: 0.1997612\ttotal: 857ms\tremaining: 1.05s\n",
      "448:\tlearn: 0.1995253\ttotal: 858ms\tremaining: 1.05s\n",
      "449:\tlearn: 0.1993746\ttotal: 860ms\tremaining: 1.05s\n",
      "450:\tlearn: 0.1991945\ttotal: 862ms\tremaining: 1.05s\n",
      "451:\tlearn: 0.1990517\ttotal: 863ms\tremaining: 1.05s\n",
      "452:\tlearn: 0.1989021\ttotal: 865ms\tremaining: 1.04s\n",
      "453:\tlearn: 0.1987665\ttotal: 867ms\tremaining: 1.04s\n",
      "454:\tlearn: 0.1985861\ttotal: 868ms\tremaining: 1.04s\n",
      "455:\tlearn: 0.1983578\ttotal: 870ms\tremaining: 1.04s\n",
      "456:\tlearn: 0.1981957\ttotal: 872ms\tremaining: 1.03s\n",
      "457:\tlearn: 0.1979744\ttotal: 874ms\tremaining: 1.03s\n",
      "458:\tlearn: 0.1977025\ttotal: 875ms\tremaining: 1.03s\n",
      "459:\tlearn: 0.1975133\ttotal: 877ms\tremaining: 1.03s\n",
      "460:\tlearn: 0.1973579\ttotal: 878ms\tremaining: 1.03s\n",
      "461:\tlearn: 0.1971091\ttotal: 880ms\tremaining: 1.02s\n",
      "462:\tlearn: 0.1968689\ttotal: 882ms\tremaining: 1.02s\n",
      "463:\tlearn: 0.1967182\ttotal: 883ms\tremaining: 1.02s\n",
      "464:\tlearn: 0.1965370\ttotal: 885ms\tremaining: 1.02s\n",
      "465:\tlearn: 0.1964076\ttotal: 887ms\tremaining: 1.02s\n",
      "466:\tlearn: 0.1962386\ttotal: 888ms\tremaining: 1.01s\n",
      "467:\tlearn: 0.1960185\ttotal: 890ms\tremaining: 1.01s\n",
      "468:\tlearn: 0.1958726\ttotal: 892ms\tremaining: 1.01s\n",
      "469:\tlearn: 0.1957280\ttotal: 893ms\tremaining: 1.01s\n",
      "470:\tlearn: 0.1955819\ttotal: 895ms\tremaining: 1s\n",
      "471:\tlearn: 0.1953726\ttotal: 897ms\tremaining: 1s\n",
      "472:\tlearn: 0.1952375\ttotal: 898ms\tremaining: 1s\n",
      "473:\tlearn: 0.1951622\ttotal: 900ms\tremaining: 998ms\n",
      "474:\tlearn: 0.1949177\ttotal: 901ms\tremaining: 996ms\n",
      "475:\tlearn: 0.1947543\ttotal: 903ms\tremaining: 994ms\n",
      "476:\tlearn: 0.1946281\ttotal: 904ms\tremaining: 992ms\n",
      "477:\tlearn: 0.1945059\ttotal: 906ms\tremaining: 989ms\n",
      "478:\tlearn: 0.1943844\ttotal: 908ms\tremaining: 987ms\n",
      "479:\tlearn: 0.1941806\ttotal: 909ms\tremaining: 985ms\n",
      "480:\tlearn: 0.1939755\ttotal: 911ms\tremaining: 983ms\n",
      "481:\tlearn: 0.1938242\ttotal: 913ms\tremaining: 981ms\n",
      "482:\tlearn: 0.1936979\ttotal: 914ms\tremaining: 979ms\n",
      "483:\tlearn: 0.1934654\ttotal: 916ms\tremaining: 977ms\n",
      "484:\tlearn: 0.1933156\ttotal: 918ms\tremaining: 975ms\n",
      "485:\tlearn: 0.1931923\ttotal: 920ms\tremaining: 972ms\n",
      "486:\tlearn: 0.1930642\ttotal: 921ms\tremaining: 970ms\n",
      "487:\tlearn: 0.1928819\ttotal: 923ms\tremaining: 968ms\n",
      "488:\tlearn: 0.1927282\ttotal: 925ms\tremaining: 966ms\n",
      "489:\tlearn: 0.1925035\ttotal: 926ms\tremaining: 964ms\n",
      "490:\tlearn: 0.1922898\ttotal: 928ms\tremaining: 962ms\n",
      "491:\tlearn: 0.1921187\ttotal: 929ms\tremaining: 960ms\n",
      "492:\tlearn: 0.1918700\ttotal: 931ms\tremaining: 958ms\n",
      "493:\tlearn: 0.1917054\ttotal: 933ms\tremaining: 955ms\n",
      "494:\tlearn: 0.1916266\ttotal: 934ms\tremaining: 953ms\n",
      "495:\tlearn: 0.1913776\ttotal: 936ms\tremaining: 951ms\n",
      "496:\tlearn: 0.1910711\ttotal: 938ms\tremaining: 949ms\n",
      "497:\tlearn: 0.1908360\ttotal: 939ms\tremaining: 947ms\n",
      "498:\tlearn: 0.1906656\ttotal: 941ms\tremaining: 945ms\n",
      "499:\tlearn: 0.1904951\ttotal: 943ms\tremaining: 943ms\n",
      "500:\tlearn: 0.1903184\ttotal: 944ms\tremaining: 941ms\n",
      "501:\tlearn: 0.1902204\ttotal: 946ms\tremaining: 939ms\n",
      "502:\tlearn: 0.1900798\ttotal: 948ms\tremaining: 936ms\n",
      "503:\tlearn: 0.1899452\ttotal: 949ms\tremaining: 934ms\n",
      "504:\tlearn: 0.1897684\ttotal: 951ms\tremaining: 932ms\n",
      "505:\tlearn: 0.1896120\ttotal: 953ms\tremaining: 930ms\n",
      "506:\tlearn: 0.1894356\ttotal: 954ms\tremaining: 928ms\n",
      "507:\tlearn: 0.1892231\ttotal: 956ms\tremaining: 926ms\n",
      "508:\tlearn: 0.1891071\ttotal: 957ms\tremaining: 924ms\n",
      "509:\tlearn: 0.1890246\ttotal: 959ms\tremaining: 922ms\n",
      "510:\tlearn: 0.1888132\ttotal: 961ms\tremaining: 920ms\n",
      "511:\tlearn: 0.1886342\ttotal: 962ms\tremaining: 917ms\n",
      "512:\tlearn: 0.1885085\ttotal: 964ms\tremaining: 915ms\n",
      "513:\tlearn: 0.1883419\ttotal: 966ms\tremaining: 913ms\n",
      "514:\tlearn: 0.1881904\ttotal: 968ms\tremaining: 911ms\n",
      "515:\tlearn: 0.1880255\ttotal: 969ms\tremaining: 909ms\n",
      "516:\tlearn: 0.1879678\ttotal: 971ms\tremaining: 907ms\n",
      "517:\tlearn: 0.1878174\ttotal: 972ms\tremaining: 905ms\n",
      "518:\tlearn: 0.1874401\ttotal: 974ms\tremaining: 903ms\n",
      "519:\tlearn: 0.1870782\ttotal: 976ms\tremaining: 901ms\n",
      "520:\tlearn: 0.1866487\ttotal: 978ms\tremaining: 899ms\n",
      "521:\tlearn: 0.1865286\ttotal: 979ms\tremaining: 897ms\n",
      "522:\tlearn: 0.1864214\ttotal: 981ms\tremaining: 895ms\n",
      "523:\tlearn: 0.1862300\ttotal: 983ms\tremaining: 893ms\n",
      "524:\tlearn: 0.1860990\ttotal: 984ms\tremaining: 891ms\n",
      "525:\tlearn: 0.1859667\ttotal: 986ms\tremaining: 889ms\n",
      "526:\tlearn: 0.1858604\ttotal: 988ms\tremaining: 887ms\n",
      "527:\tlearn: 0.1857111\ttotal: 989ms\tremaining: 884ms\n",
      "528:\tlearn: 0.1856285\ttotal: 991ms\tremaining: 882ms\n",
      "529:\tlearn: 0.1854885\ttotal: 992ms\tremaining: 880ms\n",
      "530:\tlearn: 0.1852946\ttotal: 994ms\tremaining: 878ms\n",
      "531:\tlearn: 0.1851599\ttotal: 995ms\tremaining: 876ms\n",
      "532:\tlearn: 0.1850007\ttotal: 997ms\tremaining: 873ms\n",
      "533:\tlearn: 0.1848563\ttotal: 998ms\tremaining: 871ms\n",
      "534:\tlearn: 0.1846596\ttotal: 1s\tremaining: 869ms\n",
      "535:\tlearn: 0.1845243\ttotal: 1s\tremaining: 867ms\n",
      "536:\tlearn: 0.1843572\ttotal: 1s\tremaining: 865ms\n",
      "537:\tlearn: 0.1842003\ttotal: 1s\tremaining: 863ms\n",
      "538:\tlearn: 0.1840756\ttotal: 1.01s\tremaining: 861ms\n",
      "539:\tlearn: 0.1839955\ttotal: 1.01s\tremaining: 859ms\n",
      "540:\tlearn: 0.1838528\ttotal: 1.01s\tremaining: 857ms\n",
      "541:\tlearn: 0.1837056\ttotal: 1.01s\tremaining: 855ms\n",
      "542:\tlearn: 0.1836017\ttotal: 1.01s\tremaining: 852ms\n",
      "543:\tlearn: 0.1834632\ttotal: 1.01s\tremaining: 850ms\n",
      "544:\tlearn: 0.1832862\ttotal: 1.02s\tremaining: 848ms\n",
      "545:\tlearn: 0.1831202\ttotal: 1.02s\tremaining: 847ms\n",
      "546:\tlearn: 0.1828924\ttotal: 1.02s\tremaining: 845ms\n",
      "547:\tlearn: 0.1827159\ttotal: 1.02s\tremaining: 844ms\n",
      "548:\tlearn: 0.1826143\ttotal: 1.02s\tremaining: 842ms\n",
      "549:\tlearn: 0.1824480\ttotal: 1.03s\tremaining: 840ms\n",
      "550:\tlearn: 0.1823588\ttotal: 1.03s\tremaining: 838ms\n",
      "551:\tlearn: 0.1821473\ttotal: 1.03s\tremaining: 836ms\n",
      "552:\tlearn: 0.1820149\ttotal: 1.03s\tremaining: 834ms\n",
      "553:\tlearn: 0.1819361\ttotal: 1.03s\tremaining: 832ms\n",
      "554:\tlearn: 0.1817851\ttotal: 1.03s\tremaining: 830ms\n",
      "555:\tlearn: 0.1816626\ttotal: 1.04s\tremaining: 828ms\n",
      "556:\tlearn: 0.1815234\ttotal: 1.04s\tremaining: 826ms\n",
      "557:\tlearn: 0.1813929\ttotal: 1.04s\tremaining: 826ms\n",
      "558:\tlearn: 0.1812630\ttotal: 1.04s\tremaining: 824ms\n",
      "559:\tlearn: 0.1811101\ttotal: 1.05s\tremaining: 822ms\n",
      "560:\tlearn: 0.1808980\ttotal: 1.05s\tremaining: 820ms\n",
      "561:\tlearn: 0.1807475\ttotal: 1.05s\tremaining: 818ms\n",
      "562:\tlearn: 0.1806025\ttotal: 1.05s\tremaining: 815ms\n",
      "563:\tlearn: 0.1804866\ttotal: 1.05s\tremaining: 813ms\n",
      "564:\tlearn: 0.1803360\ttotal: 1.05s\tremaining: 811ms\n",
      "565:\tlearn: 0.1802392\ttotal: 1.05s\tremaining: 809ms\n",
      "566:\tlearn: 0.1801280\ttotal: 1.06s\tremaining: 807ms\n",
      "567:\tlearn: 0.1799421\ttotal: 1.06s\tremaining: 805ms\n",
      "568:\tlearn: 0.1797834\ttotal: 1.06s\tremaining: 803ms\n",
      "569:\tlearn: 0.1796160\ttotal: 1.06s\tremaining: 801ms\n",
      "570:\tlearn: 0.1793990\ttotal: 1.06s\tremaining: 800ms\n",
      "571:\tlearn: 0.1792833\ttotal: 1.06s\tremaining: 797ms\n",
      "572:\tlearn: 0.1790940\ttotal: 1.07s\tremaining: 795ms\n",
      "573:\tlearn: 0.1789647\ttotal: 1.07s\tremaining: 793ms\n",
      "574:\tlearn: 0.1788291\ttotal: 1.07s\tremaining: 791ms\n",
      "575:\tlearn: 0.1785168\ttotal: 1.07s\tremaining: 789ms\n",
      "576:\tlearn: 0.1783803\ttotal: 1.07s\tremaining: 787ms\n",
      "577:\tlearn: 0.1781901\ttotal: 1.07s\tremaining: 785ms\n",
      "578:\tlearn: 0.1779725\ttotal: 1.08s\tremaining: 783ms\n",
      "579:\tlearn: 0.1778286\ttotal: 1.08s\tremaining: 781ms\n",
      "580:\tlearn: 0.1776570\ttotal: 1.08s\tremaining: 780ms\n",
      "581:\tlearn: 0.1774058\ttotal: 1.08s\tremaining: 778ms\n",
      "582:\tlearn: 0.1772457\ttotal: 1.08s\tremaining: 776ms\n",
      "583:\tlearn: 0.1770518\ttotal: 1.09s\tremaining: 774ms\n",
      "584:\tlearn: 0.1769033\ttotal: 1.09s\tremaining: 772ms\n",
      "585:\tlearn: 0.1767690\ttotal: 1.09s\tremaining: 770ms\n",
      "586:\tlearn: 0.1766135\ttotal: 1.09s\tremaining: 768ms\n",
      "587:\tlearn: 0.1764790\ttotal: 1.09s\tremaining: 766ms\n",
      "588:\tlearn: 0.1761683\ttotal: 1.09s\tremaining: 764ms\n",
      "589:\tlearn: 0.1760284\ttotal: 1.1s\tremaining: 762ms\n",
      "590:\tlearn: 0.1758408\ttotal: 1.1s\tremaining: 760ms\n",
      "591:\tlearn: 0.1756872\ttotal: 1.1s\tremaining: 758ms\n",
      "592:\tlearn: 0.1755600\ttotal: 1.1s\tremaining: 756ms\n",
      "593:\tlearn: 0.1753697\ttotal: 1.1s\tremaining: 754ms\n",
      "594:\tlearn: 0.1752821\ttotal: 1.1s\tremaining: 752ms\n",
      "595:\tlearn: 0.1750833\ttotal: 1.11s\tremaining: 750ms\n",
      "596:\tlearn: 0.1749843\ttotal: 1.11s\tremaining: 749ms\n",
      "597:\tlearn: 0.1748156\ttotal: 1.11s\tremaining: 747ms\n",
      "598:\tlearn: 0.1746619\ttotal: 1.11s\tremaining: 745ms\n",
      "599:\tlearn: 0.1744442\ttotal: 1.11s\tremaining: 743ms\n",
      "600:\tlearn: 0.1742975\ttotal: 1.11s\tremaining: 741ms\n",
      "601:\tlearn: 0.1741668\ttotal: 1.12s\tremaining: 739ms\n",
      "602:\tlearn: 0.1739425\ttotal: 1.12s\tremaining: 737ms\n",
      "603:\tlearn: 0.1738149\ttotal: 1.12s\tremaining: 735ms\n",
      "604:\tlearn: 0.1737085\ttotal: 1.12s\tremaining: 733ms\n",
      "605:\tlearn: 0.1735724\ttotal: 1.12s\tremaining: 731ms\n",
      "606:\tlearn: 0.1732853\ttotal: 1.13s\tremaining: 729ms\n",
      "607:\tlearn: 0.1731536\ttotal: 1.13s\tremaining: 727ms\n",
      "608:\tlearn: 0.1730233\ttotal: 1.13s\tremaining: 725ms\n",
      "609:\tlearn: 0.1729016\ttotal: 1.13s\tremaining: 723ms\n",
      "610:\tlearn: 0.1727968\ttotal: 1.13s\tremaining: 721ms\n",
      "611:\tlearn: 0.1726886\ttotal: 1.13s\tremaining: 719ms\n",
      "612:\tlearn: 0.1725047\ttotal: 1.14s\tremaining: 718ms\n",
      "613:\tlearn: 0.1722493\ttotal: 1.14s\tremaining: 716ms\n",
      "614:\tlearn: 0.1721107\ttotal: 1.14s\tremaining: 714ms\n",
      "615:\tlearn: 0.1719888\ttotal: 1.14s\tremaining: 712ms\n",
      "616:\tlearn: 0.1718871\ttotal: 1.14s\tremaining: 710ms\n",
      "617:\tlearn: 0.1718197\ttotal: 1.14s\tremaining: 708ms\n",
      "618:\tlearn: 0.1715237\ttotal: 1.15s\tremaining: 706ms\n",
      "619:\tlearn: 0.1713573\ttotal: 1.15s\tremaining: 704ms\n",
      "620:\tlearn: 0.1712420\ttotal: 1.15s\tremaining: 702ms\n",
      "621:\tlearn: 0.1711289\ttotal: 1.15s\tremaining: 700ms\n",
      "622:\tlearn: 0.1711027\ttotal: 1.15s\tremaining: 697ms\n",
      "623:\tlearn: 0.1709550\ttotal: 1.15s\tremaining: 696ms\n",
      "624:\tlearn: 0.1707985\ttotal: 1.16s\tremaining: 694ms\n",
      "625:\tlearn: 0.1706321\ttotal: 1.16s\tremaining: 692ms\n",
      "626:\tlearn: 0.1705085\ttotal: 1.16s\tremaining: 690ms\n",
      "627:\tlearn: 0.1703450\ttotal: 1.16s\tremaining: 688ms\n",
      "628:\tlearn: 0.1702265\ttotal: 1.16s\tremaining: 686ms\n",
      "629:\tlearn: 0.1700864\ttotal: 1.16s\tremaining: 684ms\n",
      "630:\tlearn: 0.1699097\ttotal: 1.17s\tremaining: 682ms\n",
      "631:\tlearn: 0.1698121\ttotal: 1.17s\tremaining: 680ms\n",
      "632:\tlearn: 0.1697317\ttotal: 1.17s\tremaining: 678ms\n",
      "633:\tlearn: 0.1695591\ttotal: 1.17s\tremaining: 676ms\n",
      "634:\tlearn: 0.1693654\ttotal: 1.17s\tremaining: 674ms\n",
      "635:\tlearn: 0.1692436\ttotal: 1.17s\tremaining: 672ms\n",
      "636:\tlearn: 0.1690957\ttotal: 1.18s\tremaining: 670ms\n",
      "637:\tlearn: 0.1688895\ttotal: 1.18s\tremaining: 669ms\n",
      "638:\tlearn: 0.1687079\ttotal: 1.18s\tremaining: 667ms\n",
      "639:\tlearn: 0.1685682\ttotal: 1.18s\tremaining: 665ms\n",
      "640:\tlearn: 0.1684933\ttotal: 1.18s\tremaining: 663ms\n",
      "641:\tlearn: 0.1682873\ttotal: 1.19s\tremaining: 661ms\n",
      "642:\tlearn: 0.1681822\ttotal: 1.19s\tremaining: 659ms\n",
      "643:\tlearn: 0.1680689\ttotal: 1.19s\tremaining: 657ms\n",
      "644:\tlearn: 0.1679015\ttotal: 1.19s\tremaining: 655ms\n",
      "645:\tlearn: 0.1677948\ttotal: 1.19s\tremaining: 653ms\n",
      "646:\tlearn: 0.1676653\ttotal: 1.19s\tremaining: 652ms\n",
      "647:\tlearn: 0.1675304\ttotal: 1.2s\tremaining: 650ms\n",
      "648:\tlearn: 0.1674021\ttotal: 1.2s\tremaining: 648ms\n",
      "649:\tlearn: 0.1672301\ttotal: 1.2s\tremaining: 646ms\n",
      "650:\tlearn: 0.1671207\ttotal: 1.2s\tremaining: 644ms\n",
      "651:\tlearn: 0.1670834\ttotal: 1.2s\tremaining: 642ms\n",
      "652:\tlearn: 0.1670147\ttotal: 1.2s\tremaining: 640ms\n",
      "653:\tlearn: 0.1667993\ttotal: 1.21s\tremaining: 638ms\n",
      "654:\tlearn: 0.1667159\ttotal: 1.21s\tremaining: 636ms\n",
      "655:\tlearn: 0.1665941\ttotal: 1.21s\tremaining: 634ms\n",
      "656:\tlearn: 0.1663226\ttotal: 1.21s\tremaining: 632ms\n",
      "657:\tlearn: 0.1662112\ttotal: 1.21s\tremaining: 631ms\n",
      "658:\tlearn: 0.1660594\ttotal: 1.22s\tremaining: 629ms\n",
      "659:\tlearn: 0.1659089\ttotal: 1.22s\tremaining: 627ms\n",
      "660:\tlearn: 0.1657828\ttotal: 1.22s\tremaining: 626ms\n",
      "661:\tlearn: 0.1656717\ttotal: 1.22s\tremaining: 624ms\n",
      "662:\tlearn: 0.1655628\ttotal: 1.22s\tremaining: 622ms\n",
      "663:\tlearn: 0.1654412\ttotal: 1.23s\tremaining: 620ms\n",
      "664:\tlearn: 0.1652805\ttotal: 1.23s\tremaining: 618ms\n",
      "665:\tlearn: 0.1651497\ttotal: 1.23s\tremaining: 616ms\n",
      "666:\tlearn: 0.1650413\ttotal: 1.23s\tremaining: 614ms\n",
      "667:\tlearn: 0.1649217\ttotal: 1.23s\tremaining: 613ms\n",
      "668:\tlearn: 0.1647071\ttotal: 1.23s\tremaining: 611ms\n",
      "669:\tlearn: 0.1646134\ttotal: 1.24s\tremaining: 609ms\n",
      "670:\tlearn: 0.1645956\ttotal: 1.24s\tremaining: 607ms\n",
      "671:\tlearn: 0.1645017\ttotal: 1.24s\tremaining: 605ms\n",
      "672:\tlearn: 0.1644406\ttotal: 1.24s\tremaining: 603ms\n",
      "673:\tlearn: 0.1643039\ttotal: 1.24s\tremaining: 601ms\n",
      "674:\tlearn: 0.1642188\ttotal: 1.24s\tremaining: 599ms\n",
      "675:\tlearn: 0.1641001\ttotal: 1.25s\tremaining: 597ms\n",
      "676:\tlearn: 0.1639842\ttotal: 1.25s\tremaining: 596ms\n",
      "677:\tlearn: 0.1638808\ttotal: 1.25s\tremaining: 594ms\n",
      "678:\tlearn: 0.1637529\ttotal: 1.25s\tremaining: 592ms\n",
      "679:\tlearn: 0.1636384\ttotal: 1.25s\tremaining: 590ms\n",
      "680:\tlearn: 0.1635383\ttotal: 1.25s\tremaining: 588ms\n",
      "681:\tlearn: 0.1634161\ttotal: 1.26s\tremaining: 586ms\n",
      "682:\tlearn: 0.1632740\ttotal: 1.26s\tremaining: 584ms\n",
      "683:\tlearn: 0.1630578\ttotal: 1.26s\tremaining: 582ms\n",
      "684:\tlearn: 0.1629744\ttotal: 1.26s\tremaining: 580ms\n",
      "685:\tlearn: 0.1628690\ttotal: 1.26s\tremaining: 578ms\n",
      "686:\tlearn: 0.1627774\ttotal: 1.26s\tremaining: 577ms\n",
      "687:\tlearn: 0.1626794\ttotal: 1.27s\tremaining: 575ms\n",
      "688:\tlearn: 0.1626016\ttotal: 1.27s\tremaining: 573ms\n",
      "689:\tlearn: 0.1623313\ttotal: 1.27s\tremaining: 571ms\n",
      "690:\tlearn: 0.1621344\ttotal: 1.27s\tremaining: 569ms\n",
      "691:\tlearn: 0.1620036\ttotal: 1.27s\tremaining: 567ms\n",
      "692:\tlearn: 0.1618540\ttotal: 1.27s\tremaining: 565ms\n",
      "693:\tlearn: 0.1618116\ttotal: 1.28s\tremaining: 563ms\n",
      "694:\tlearn: 0.1617022\ttotal: 1.28s\tremaining: 561ms\n",
      "695:\tlearn: 0.1616101\ttotal: 1.28s\tremaining: 559ms\n",
      "696:\tlearn: 0.1615629\ttotal: 1.28s\tremaining: 557ms\n",
      "697:\tlearn: 0.1614522\ttotal: 1.28s\tremaining: 555ms\n",
      "698:\tlearn: 0.1611686\ttotal: 1.28s\tremaining: 553ms\n",
      "699:\tlearn: 0.1609971\ttotal: 1.29s\tremaining: 552ms\n",
      "700:\tlearn: 0.1606285\ttotal: 1.29s\tremaining: 550ms\n",
      "701:\tlearn: 0.1605008\ttotal: 1.29s\tremaining: 548ms\n",
      "702:\tlearn: 0.1604366\ttotal: 1.29s\tremaining: 546ms\n",
      "703:\tlearn: 0.1603121\ttotal: 1.29s\tremaining: 544ms\n",
      "704:\tlearn: 0.1601944\ttotal: 1.29s\tremaining: 542ms\n",
      "705:\tlearn: 0.1601566\ttotal: 1.3s\tremaining: 540ms\n",
      "706:\tlearn: 0.1600247\ttotal: 1.3s\tremaining: 538ms\n",
      "707:\tlearn: 0.1599065\ttotal: 1.3s\tremaining: 536ms\n",
      "708:\tlearn: 0.1597996\ttotal: 1.3s\tremaining: 534ms\n",
      "709:\tlearn: 0.1597018\ttotal: 1.3s\tremaining: 532ms\n",
      "710:\tlearn: 0.1594891\ttotal: 1.3s\tremaining: 531ms\n",
      "711:\tlearn: 0.1593833\ttotal: 1.31s\tremaining: 529ms\n",
      "712:\tlearn: 0.1592578\ttotal: 1.31s\tremaining: 527ms\n",
      "713:\tlearn: 0.1592387\ttotal: 1.31s\tremaining: 525ms\n",
      "714:\tlearn: 0.1591485\ttotal: 1.31s\tremaining: 523ms\n",
      "715:\tlearn: 0.1590508\ttotal: 1.31s\tremaining: 521ms\n",
      "716:\tlearn: 0.1588969\ttotal: 1.31s\tremaining: 519ms\n",
      "717:\tlearn: 0.1587910\ttotal: 1.32s\tremaining: 517ms\n",
      "718:\tlearn: 0.1587358\ttotal: 1.32s\tremaining: 515ms\n",
      "719:\tlearn: 0.1586322\ttotal: 1.32s\tremaining: 513ms\n",
      "720:\tlearn: 0.1584752\ttotal: 1.32s\tremaining: 511ms\n",
      "721:\tlearn: 0.1583127\ttotal: 1.32s\tremaining: 509ms\n",
      "722:\tlearn: 0.1581594\ttotal: 1.32s\tremaining: 508ms\n",
      "723:\tlearn: 0.1580528\ttotal: 1.33s\tremaining: 506ms\n",
      "724:\tlearn: 0.1578839\ttotal: 1.33s\tremaining: 504ms\n",
      "725:\tlearn: 0.1578038\ttotal: 1.33s\tremaining: 502ms\n",
      "726:\tlearn: 0.1577911\ttotal: 1.33s\tremaining: 500ms\n",
      "727:\tlearn: 0.1576899\ttotal: 1.33s\tremaining: 498ms\n",
      "728:\tlearn: 0.1575343\ttotal: 1.33s\tremaining: 496ms\n",
      "729:\tlearn: 0.1573763\ttotal: 1.34s\tremaining: 494ms\n",
      "730:\tlearn: 0.1572453\ttotal: 1.34s\tremaining: 492ms\n",
      "731:\tlearn: 0.1570895\ttotal: 1.34s\tremaining: 491ms\n",
      "732:\tlearn: 0.1569681\ttotal: 1.34s\tremaining: 489ms\n",
      "733:\tlearn: 0.1568518\ttotal: 1.34s\tremaining: 487ms\n",
      "734:\tlearn: 0.1567056\ttotal: 1.34s\tremaining: 485ms\n",
      "735:\tlearn: 0.1565978\ttotal: 1.35s\tremaining: 483ms\n",
      "736:\tlearn: 0.1564401\ttotal: 1.35s\tremaining: 481ms\n",
      "737:\tlearn: 0.1563499\ttotal: 1.35s\tremaining: 479ms\n",
      "738:\tlearn: 0.1562500\ttotal: 1.35s\tremaining: 477ms\n",
      "739:\tlearn: 0.1561831\ttotal: 1.35s\tremaining: 475ms\n",
      "740:\tlearn: 0.1560356\ttotal: 1.35s\tremaining: 474ms\n",
      "741:\tlearn: 0.1557613\ttotal: 1.36s\tremaining: 472ms\n",
      "742:\tlearn: 0.1556708\ttotal: 1.36s\tremaining: 470ms\n",
      "743:\tlearn: 0.1555706\ttotal: 1.36s\tremaining: 468ms\n",
      "744:\tlearn: 0.1553862\ttotal: 1.36s\tremaining: 466ms\n",
      "745:\tlearn: 0.1552429\ttotal: 1.36s\tremaining: 464ms\n",
      "746:\tlearn: 0.1550530\ttotal: 1.36s\tremaining: 462ms\n",
      "747:\tlearn: 0.1549563\ttotal: 1.37s\tremaining: 460ms\n",
      "748:\tlearn: 0.1547761\ttotal: 1.37s\tremaining: 458ms\n",
      "749:\tlearn: 0.1546938\ttotal: 1.37s\tremaining: 456ms\n",
      "750:\tlearn: 0.1545368\ttotal: 1.37s\tremaining: 455ms\n",
      "751:\tlearn: 0.1544317\ttotal: 1.37s\tremaining: 453ms\n",
      "752:\tlearn: 0.1543175\ttotal: 1.37s\tremaining: 451ms\n",
      "753:\tlearn: 0.1541047\ttotal: 1.38s\tremaining: 449ms\n",
      "754:\tlearn: 0.1539783\ttotal: 1.38s\tremaining: 447ms\n",
      "755:\tlearn: 0.1539029\ttotal: 1.38s\tremaining: 445ms\n",
      "756:\tlearn: 0.1538011\ttotal: 1.38s\tremaining: 443ms\n",
      "757:\tlearn: 0.1536902\ttotal: 1.38s\tremaining: 441ms\n",
      "758:\tlearn: 0.1535944\ttotal: 1.38s\tremaining: 439ms\n",
      "759:\tlearn: 0.1534655\ttotal: 1.39s\tremaining: 437ms\n",
      "760:\tlearn: 0.1533665\ttotal: 1.39s\tremaining: 436ms\n",
      "761:\tlearn: 0.1532859\ttotal: 1.39s\tremaining: 434ms\n",
      "762:\tlearn: 0.1532163\ttotal: 1.39s\tremaining: 432ms\n",
      "763:\tlearn: 0.1531009\ttotal: 1.39s\tremaining: 430ms\n",
      "764:\tlearn: 0.1530195\ttotal: 1.39s\tremaining: 428ms\n",
      "765:\tlearn: 0.1529149\ttotal: 1.39s\tremaining: 426ms\n",
      "766:\tlearn: 0.1527621\ttotal: 1.4s\tremaining: 424ms\n",
      "767:\tlearn: 0.1526439\ttotal: 1.4s\tremaining: 422ms\n",
      "768:\tlearn: 0.1525389\ttotal: 1.4s\tremaining: 420ms\n",
      "769:\tlearn: 0.1524562\ttotal: 1.4s\tremaining: 418ms\n",
      "770:\tlearn: 0.1523416\ttotal: 1.4s\tremaining: 417ms\n",
      "771:\tlearn: 0.1521504\ttotal: 1.41s\tremaining: 415ms\n",
      "772:\tlearn: 0.1519848\ttotal: 1.41s\tremaining: 413ms\n",
      "773:\tlearn: 0.1519349\ttotal: 1.41s\tremaining: 412ms\n",
      "774:\tlearn: 0.1518466\ttotal: 1.41s\tremaining: 410ms\n",
      "775:\tlearn: 0.1516950\ttotal: 1.41s\tremaining: 408ms\n",
      "776:\tlearn: 0.1515812\ttotal: 1.41s\tremaining: 406ms\n",
      "777:\tlearn: 0.1515351\ttotal: 1.42s\tremaining: 404ms\n",
      "778:\tlearn: 0.1513916\ttotal: 1.42s\tremaining: 402ms\n",
      "779:\tlearn: 0.1512840\ttotal: 1.42s\tremaining: 400ms\n",
      "780:\tlearn: 0.1511244\ttotal: 1.42s\tremaining: 398ms\n",
      "781:\tlearn: 0.1509632\ttotal: 1.42s\tremaining: 397ms\n",
      "782:\tlearn: 0.1508713\ttotal: 1.43s\tremaining: 395ms\n",
      "783:\tlearn: 0.1507710\ttotal: 1.43s\tremaining: 393ms\n",
      "784:\tlearn: 0.1506291\ttotal: 1.43s\tremaining: 391ms\n",
      "785:\tlearn: 0.1505484\ttotal: 1.43s\tremaining: 389ms\n",
      "786:\tlearn: 0.1504840\ttotal: 1.43s\tremaining: 387ms\n",
      "787:\tlearn: 0.1503693\ttotal: 1.43s\tremaining: 386ms\n",
      "788:\tlearn: 0.1503548\ttotal: 1.43s\tremaining: 384ms\n",
      "789:\tlearn: 0.1502305\ttotal: 1.44s\tremaining: 382ms\n",
      "790:\tlearn: 0.1500572\ttotal: 1.44s\tremaining: 380ms\n",
      "791:\tlearn: 0.1499256\ttotal: 1.44s\tremaining: 378ms\n",
      "792:\tlearn: 0.1497844\ttotal: 1.44s\tremaining: 376ms\n",
      "793:\tlearn: 0.1496709\ttotal: 1.44s\tremaining: 374ms\n",
      "794:\tlearn: 0.1495528\ttotal: 1.44s\tremaining: 372ms\n",
      "795:\tlearn: 0.1494713\ttotal: 1.45s\tremaining: 371ms\n",
      "796:\tlearn: 0.1493120\ttotal: 1.45s\tremaining: 369ms\n",
      "797:\tlearn: 0.1491489\ttotal: 1.45s\tremaining: 367ms\n",
      "798:\tlearn: 0.1490280\ttotal: 1.45s\tremaining: 365ms\n",
      "799:\tlearn: 0.1489360\ttotal: 1.45s\tremaining: 363ms\n",
      "800:\tlearn: 0.1487308\ttotal: 1.45s\tremaining: 361ms\n",
      "801:\tlearn: 0.1486951\ttotal: 1.46s\tremaining: 360ms\n",
      "802:\tlearn: 0.1486262\ttotal: 1.46s\tremaining: 358ms\n",
      "803:\tlearn: 0.1485285\ttotal: 1.46s\tremaining: 357ms\n",
      "804:\tlearn: 0.1483868\ttotal: 1.47s\tremaining: 355ms\n",
      "805:\tlearn: 0.1482805\ttotal: 1.47s\tremaining: 353ms\n",
      "806:\tlearn: 0.1481808\ttotal: 1.47s\tremaining: 351ms\n",
      "807:\tlearn: 0.1480642\ttotal: 1.47s\tremaining: 350ms\n",
      "808:\tlearn: 0.1479984\ttotal: 1.47s\tremaining: 348ms\n",
      "809:\tlearn: 0.1478500\ttotal: 1.48s\tremaining: 346ms\n",
      "810:\tlearn: 0.1478078\ttotal: 1.48s\tremaining: 344ms\n",
      "811:\tlearn: 0.1477284\ttotal: 1.48s\tremaining: 343ms\n",
      "812:\tlearn: 0.1477134\ttotal: 1.48s\tremaining: 341ms\n",
      "813:\tlearn: 0.1476130\ttotal: 1.48s\tremaining: 339ms\n",
      "814:\tlearn: 0.1475178\ttotal: 1.48s\tremaining: 337ms\n",
      "815:\tlearn: 0.1474090\ttotal: 1.49s\tremaining: 335ms\n",
      "816:\tlearn: 0.1472302\ttotal: 1.49s\tremaining: 333ms\n",
      "817:\tlearn: 0.1470733\ttotal: 1.49s\tremaining: 331ms\n",
      "818:\tlearn: 0.1470270\ttotal: 1.49s\tremaining: 329ms\n",
      "819:\tlearn: 0.1469363\ttotal: 1.49s\tremaining: 328ms\n",
      "820:\tlearn: 0.1468280\ttotal: 1.49s\tremaining: 326ms\n",
      "821:\tlearn: 0.1466969\ttotal: 1.5s\tremaining: 324ms\n",
      "822:\tlearn: 0.1466044\ttotal: 1.5s\tremaining: 322ms\n",
      "823:\tlearn: 0.1465171\ttotal: 1.5s\tremaining: 320ms\n",
      "824:\tlearn: 0.1464771\ttotal: 1.5s\tremaining: 318ms\n",
      "825:\tlearn: 0.1463838\ttotal: 1.5s\tremaining: 316ms\n",
      "826:\tlearn: 0.1463025\ttotal: 1.5s\tremaining: 315ms\n",
      "827:\tlearn: 0.1461918\ttotal: 1.5s\tremaining: 313ms\n",
      "828:\tlearn: 0.1460631\ttotal: 1.51s\tremaining: 311ms\n",
      "829:\tlearn: 0.1459241\ttotal: 1.51s\tremaining: 309ms\n",
      "830:\tlearn: 0.1458175\ttotal: 1.51s\tremaining: 307ms\n",
      "831:\tlearn: 0.1456509\ttotal: 1.51s\tremaining: 305ms\n",
      "832:\tlearn: 0.1455488\ttotal: 1.51s\tremaining: 304ms\n",
      "833:\tlearn: 0.1454722\ttotal: 1.51s\tremaining: 302ms\n",
      "834:\tlearn: 0.1454190\ttotal: 1.52s\tremaining: 300ms\n",
      "835:\tlearn: 0.1453231\ttotal: 1.52s\tremaining: 298ms\n",
      "836:\tlearn: 0.1452430\ttotal: 1.52s\tremaining: 296ms\n",
      "837:\tlearn: 0.1451202\ttotal: 1.52s\tremaining: 294ms\n",
      "838:\tlearn: 0.1449888\ttotal: 1.52s\tremaining: 292ms\n",
      "839:\tlearn: 0.1448805\ttotal: 1.52s\tremaining: 291ms\n",
      "840:\tlearn: 0.1447830\ttotal: 1.53s\tremaining: 289ms\n",
      "841:\tlearn: 0.1447009\ttotal: 1.53s\tremaining: 287ms\n",
      "842:\tlearn: 0.1446183\ttotal: 1.53s\tremaining: 285ms\n",
      "843:\tlearn: 0.1445867\ttotal: 1.53s\tremaining: 283ms\n",
      "844:\tlearn: 0.1444616\ttotal: 1.53s\tremaining: 281ms\n",
      "845:\tlearn: 0.1443330\ttotal: 1.53s\tremaining: 279ms\n",
      "846:\tlearn: 0.1442871\ttotal: 1.54s\tremaining: 278ms\n",
      "847:\tlearn: 0.1441593\ttotal: 1.54s\tremaining: 276ms\n",
      "848:\tlearn: 0.1440951\ttotal: 1.54s\tremaining: 274ms\n",
      "849:\tlearn: 0.1439582\ttotal: 1.54s\tremaining: 272ms\n",
      "850:\tlearn: 0.1438990\ttotal: 1.54s\tremaining: 270ms\n",
      "851:\tlearn: 0.1438696\ttotal: 1.54s\tremaining: 268ms\n",
      "852:\tlearn: 0.1437644\ttotal: 1.55s\tremaining: 267ms\n",
      "853:\tlearn: 0.1436430\ttotal: 1.55s\tremaining: 265ms\n",
      "854:\tlearn: 0.1435439\ttotal: 1.55s\tremaining: 263ms\n",
      "855:\tlearn: 0.1434755\ttotal: 1.55s\tremaining: 261ms\n",
      "856:\tlearn: 0.1433985\ttotal: 1.55s\tremaining: 259ms\n",
      "857:\tlearn: 0.1432689\ttotal: 1.55s\tremaining: 257ms\n",
      "858:\tlearn: 0.1431453\ttotal: 1.56s\tremaining: 256ms\n",
      "859:\tlearn: 0.1430806\ttotal: 1.56s\tremaining: 254ms\n",
      "860:\tlearn: 0.1429966\ttotal: 1.56s\tremaining: 252ms\n",
      "861:\tlearn: 0.1428920\ttotal: 1.56s\tremaining: 250ms\n",
      "862:\tlearn: 0.1427334\ttotal: 1.56s\tremaining: 248ms\n",
      "863:\tlearn: 0.1426815\ttotal: 1.56s\tremaining: 246ms\n",
      "864:\tlearn: 0.1425978\ttotal: 1.57s\tremaining: 244ms\n",
      "865:\tlearn: 0.1425134\ttotal: 1.57s\tremaining: 243ms\n",
      "866:\tlearn: 0.1424855\ttotal: 1.57s\tremaining: 241ms\n",
      "867:\tlearn: 0.1424344\ttotal: 1.57s\tremaining: 239ms\n",
      "868:\tlearn: 0.1423587\ttotal: 1.57s\tremaining: 237ms\n",
      "869:\tlearn: 0.1423010\ttotal: 1.57s\tremaining: 235ms\n",
      "870:\tlearn: 0.1422533\ttotal: 1.58s\tremaining: 233ms\n",
      "871:\tlearn: 0.1421690\ttotal: 1.58s\tremaining: 232ms\n",
      "872:\tlearn: 0.1421223\ttotal: 1.58s\tremaining: 230ms\n",
      "873:\tlearn: 0.1420434\ttotal: 1.58s\tremaining: 228ms\n",
      "874:\tlearn: 0.1419438\ttotal: 1.58s\tremaining: 227ms\n",
      "875:\tlearn: 0.1418447\ttotal: 1.59s\tremaining: 225ms\n",
      "876:\tlearn: 0.1417843\ttotal: 1.59s\tremaining: 223ms\n",
      "877:\tlearn: 0.1416867\ttotal: 1.59s\tremaining: 221ms\n",
      "878:\tlearn: 0.1416632\ttotal: 1.59s\tremaining: 219ms\n",
      "879:\tlearn: 0.1415515\ttotal: 1.59s\tremaining: 217ms\n",
      "880:\tlearn: 0.1413327\ttotal: 1.6s\tremaining: 216ms\n",
      "881:\tlearn: 0.1412367\ttotal: 1.6s\tremaining: 214ms\n",
      "882:\tlearn: 0.1411979\ttotal: 1.6s\tremaining: 212ms\n",
      "883:\tlearn: 0.1411518\ttotal: 1.6s\tremaining: 210ms\n",
      "884:\tlearn: 0.1410531\ttotal: 1.6s\tremaining: 208ms\n",
      "885:\tlearn: 0.1409671\ttotal: 1.6s\tremaining: 207ms\n",
      "886:\tlearn: 0.1409282\ttotal: 1.61s\tremaining: 205ms\n",
      "887:\tlearn: 0.1407995\ttotal: 1.61s\tremaining: 203ms\n",
      "888:\tlearn: 0.1406772\ttotal: 1.61s\tremaining: 201ms\n",
      "889:\tlearn: 0.1405511\ttotal: 1.61s\tremaining: 199ms\n",
      "890:\tlearn: 0.1404239\ttotal: 1.61s\tremaining: 197ms\n",
      "891:\tlearn: 0.1403236\ttotal: 1.61s\tremaining: 196ms\n",
      "892:\tlearn: 0.1402569\ttotal: 1.62s\tremaining: 194ms\n",
      "893:\tlearn: 0.1402064\ttotal: 1.62s\tremaining: 192ms\n",
      "894:\tlearn: 0.1400865\ttotal: 1.62s\tremaining: 190ms\n",
      "895:\tlearn: 0.1400020\ttotal: 1.62s\tremaining: 188ms\n",
      "896:\tlearn: 0.1399332\ttotal: 1.62s\tremaining: 187ms\n",
      "897:\tlearn: 0.1398498\ttotal: 1.63s\tremaining: 185ms\n",
      "898:\tlearn: 0.1397913\ttotal: 1.63s\tremaining: 183ms\n",
      "899:\tlearn: 0.1396942\ttotal: 1.63s\tremaining: 181ms\n",
      "900:\tlearn: 0.1395956\ttotal: 1.63s\tremaining: 179ms\n",
      "901:\tlearn: 0.1394760\ttotal: 1.63s\tremaining: 177ms\n",
      "902:\tlearn: 0.1394038\ttotal: 1.63s\tremaining: 176ms\n",
      "903:\tlearn: 0.1392157\ttotal: 1.64s\tremaining: 174ms\n",
      "904:\tlearn: 0.1391035\ttotal: 1.64s\tremaining: 172ms\n",
      "905:\tlearn: 0.1389879\ttotal: 1.64s\tremaining: 170ms\n",
      "906:\tlearn: 0.1388697\ttotal: 1.64s\tremaining: 169ms\n",
      "907:\tlearn: 0.1387982\ttotal: 1.65s\tremaining: 167ms\n",
      "908:\tlearn: 0.1387237\ttotal: 1.65s\tremaining: 165ms\n",
      "909:\tlearn: 0.1385770\ttotal: 1.65s\tremaining: 164ms\n",
      "910:\tlearn: 0.1384776\ttotal: 1.66s\tremaining: 162ms\n",
      "911:\tlearn: 0.1384034\ttotal: 1.66s\tremaining: 160ms\n",
      "912:\tlearn: 0.1383861\ttotal: 1.66s\tremaining: 158ms\n",
      "913:\tlearn: 0.1382720\ttotal: 1.66s\tremaining: 156ms\n",
      "914:\tlearn: 0.1381774\ttotal: 1.66s\tremaining: 155ms\n",
      "915:\tlearn: 0.1381272\ttotal: 1.67s\tremaining: 153ms\n",
      "916:\tlearn: 0.1380703\ttotal: 1.67s\tremaining: 151ms\n",
      "917:\tlearn: 0.1380294\ttotal: 1.67s\tremaining: 149ms\n",
      "918:\tlearn: 0.1379768\ttotal: 1.67s\tremaining: 147ms\n",
      "919:\tlearn: 0.1379388\ttotal: 1.67s\tremaining: 146ms\n",
      "920:\tlearn: 0.1378924\ttotal: 1.68s\tremaining: 144ms\n",
      "921:\tlearn: 0.1377651\ttotal: 1.68s\tremaining: 142ms\n",
      "922:\tlearn: 0.1377385\ttotal: 1.68s\tremaining: 140ms\n",
      "923:\tlearn: 0.1376798\ttotal: 1.69s\tremaining: 139ms\n",
      "924:\tlearn: 0.1375922\ttotal: 1.69s\tremaining: 137ms\n",
      "925:\tlearn: 0.1374915\ttotal: 1.69s\tremaining: 135ms\n",
      "926:\tlearn: 0.1374577\ttotal: 1.69s\tremaining: 133ms\n",
      "927:\tlearn: 0.1373121\ttotal: 1.69s\tremaining: 131ms\n",
      "928:\tlearn: 0.1372076\ttotal: 1.7s\tremaining: 130ms\n",
      "929:\tlearn: 0.1371412\ttotal: 1.7s\tremaining: 128ms\n",
      "930:\tlearn: 0.1371065\ttotal: 1.7s\tremaining: 126ms\n",
      "931:\tlearn: 0.1370298\ttotal: 1.7s\tremaining: 124ms\n",
      "932:\tlearn: 0.1369650\ttotal: 1.71s\tremaining: 122ms\n",
      "933:\tlearn: 0.1368980\ttotal: 1.71s\tremaining: 121ms\n",
      "934:\tlearn: 0.1368837\ttotal: 1.71s\tremaining: 119ms\n",
      "935:\tlearn: 0.1367991\ttotal: 1.71s\tremaining: 117ms\n",
      "936:\tlearn: 0.1367172\ttotal: 1.71s\tremaining: 115ms\n",
      "937:\tlearn: 0.1366049\ttotal: 1.72s\tremaining: 113ms\n",
      "938:\tlearn: 0.1364855\ttotal: 1.72s\tremaining: 112ms\n",
      "939:\tlearn: 0.1364481\ttotal: 1.72s\tremaining: 110ms\n",
      "940:\tlearn: 0.1363781\ttotal: 1.72s\tremaining: 108ms\n",
      "941:\tlearn: 0.1362341\ttotal: 1.72s\tremaining: 106ms\n",
      "942:\tlearn: 0.1361330\ttotal: 1.73s\tremaining: 104ms\n",
      "943:\tlearn: 0.1361064\ttotal: 1.73s\tremaining: 103ms\n",
      "944:\tlearn: 0.1360625\ttotal: 1.73s\tremaining: 101ms\n",
      "945:\tlearn: 0.1359600\ttotal: 1.74s\tremaining: 99.1ms\n",
      "946:\tlearn: 0.1358579\ttotal: 1.74s\tremaining: 97.4ms\n",
      "947:\tlearn: 0.1357365\ttotal: 1.74s\tremaining: 95.5ms\n",
      "948:\tlearn: 0.1356247\ttotal: 1.74s\tremaining: 93.7ms\n",
      "949:\tlearn: 0.1355672\ttotal: 1.75s\tremaining: 91.8ms\n",
      "950:\tlearn: 0.1354468\ttotal: 1.75s\tremaining: 90ms\n",
      "951:\tlearn: 0.1353946\ttotal: 1.75s\tremaining: 88.2ms\n",
      "952:\tlearn: 0.1353461\ttotal: 1.75s\tremaining: 86.3ms\n",
      "953:\tlearn: 0.1352352\ttotal: 1.75s\tremaining: 84.5ms\n",
      "954:\tlearn: 0.1351615\ttotal: 1.75s\tremaining: 82.6ms\n",
      "955:\tlearn: 0.1350865\ttotal: 1.75s\tremaining: 80.8ms\n",
      "956:\tlearn: 0.1350011\ttotal: 1.76s\tremaining: 78.9ms\n",
      "957:\tlearn: 0.1349132\ttotal: 1.76s\tremaining: 77.1ms\n",
      "958:\tlearn: 0.1347949\ttotal: 1.76s\tremaining: 75.2ms\n",
      "959:\tlearn: 0.1347237\ttotal: 1.76s\tremaining: 73.4ms\n",
      "960:\tlearn: 0.1346453\ttotal: 1.76s\tremaining: 71.6ms\n",
      "961:\tlearn: 0.1345768\ttotal: 1.76s\tremaining: 69.7ms\n",
      "962:\tlearn: 0.1344963\ttotal: 1.77s\tremaining: 67.9ms\n",
      "963:\tlearn: 0.1343534\ttotal: 1.77s\tremaining: 66ms\n",
      "964:\tlearn: 0.1342301\ttotal: 1.77s\tremaining: 64.2ms\n",
      "965:\tlearn: 0.1341652\ttotal: 1.77s\tremaining: 62.4ms\n",
      "966:\tlearn: 0.1339845\ttotal: 1.77s\tremaining: 60.6ms\n",
      "967:\tlearn: 0.1339083\ttotal: 1.78s\tremaining: 58.7ms\n",
      "968:\tlearn: 0.1338564\ttotal: 1.78s\tremaining: 56.9ms\n",
      "969:\tlearn: 0.1337173\ttotal: 1.78s\tremaining: 55ms\n",
      "970:\tlearn: 0.1336560\ttotal: 1.78s\tremaining: 53.2ms\n",
      "971:\tlearn: 0.1335965\ttotal: 1.78s\tremaining: 51.4ms\n",
      "972:\tlearn: 0.1335181\ttotal: 1.78s\tremaining: 49.5ms\n",
      "973:\tlearn: 0.1334219\ttotal: 1.79s\tremaining: 47.7ms\n",
      "974:\tlearn: 0.1333930\ttotal: 1.79s\tremaining: 45.9ms\n",
      "975:\tlearn: 0.1332570\ttotal: 1.79s\tremaining: 44.1ms\n",
      "976:\tlearn: 0.1331579\ttotal: 1.79s\tremaining: 42.2ms\n",
      "977:\tlearn: 0.1331088\ttotal: 1.79s\tremaining: 40.4ms\n",
      "978:\tlearn: 0.1330387\ttotal: 1.8s\tremaining: 38.5ms\n",
      "979:\tlearn: 0.1329582\ttotal: 1.8s\tremaining: 36.7ms\n",
      "980:\tlearn: 0.1328858\ttotal: 1.8s\tremaining: 34.9ms\n",
      "981:\tlearn: 0.1328335\ttotal: 1.8s\tremaining: 33ms\n",
      "982:\tlearn: 0.1327636\ttotal: 1.8s\tremaining: 31.2ms\n",
      "983:\tlearn: 0.1327047\ttotal: 1.8s\tremaining: 29.4ms\n",
      "984:\tlearn: 0.1325663\ttotal: 1.81s\tremaining: 27.5ms\n",
      "985:\tlearn: 0.1324761\ttotal: 1.81s\tremaining: 25.7ms\n",
      "986:\tlearn: 0.1324207\ttotal: 1.81s\tremaining: 23.9ms\n",
      "987:\tlearn: 0.1323083\ttotal: 1.81s\tremaining: 22ms\n",
      "988:\tlearn: 0.1322266\ttotal: 1.81s\tremaining: 20.2ms\n",
      "989:\tlearn: 0.1320970\ttotal: 1.82s\tremaining: 18.4ms\n",
      "990:\tlearn: 0.1320486\ttotal: 1.82s\tremaining: 16.5ms\n",
      "991:\tlearn: 0.1319515\ttotal: 1.82s\tremaining: 14.7ms\n",
      "992:\tlearn: 0.1318603\ttotal: 1.82s\tremaining: 12.8ms\n",
      "993:\tlearn: 0.1317968\ttotal: 1.82s\tremaining: 11ms\n",
      "994:\tlearn: 0.1317361\ttotal: 1.82s\tremaining: 9.17ms\n",
      "995:\tlearn: 0.1316221\ttotal: 1.83s\tremaining: 7.33ms\n",
      "996:\tlearn: 0.1315303\ttotal: 1.83s\tremaining: 5.5ms\n",
      "997:\tlearn: 0.1314906\ttotal: 1.83s\tremaining: 3.67ms\n",
      "998:\tlearn: 0.1314166\ttotal: 1.83s\tremaining: 1.83ms\n",
      "999:\tlearn: 0.1313803\ttotal: 1.83s\tremaining: 0us\n"
     ]
    }
   ],
   "source": [
    "catc = CatBoostClassifier(learning_rate=0.01) \n",
    "catc.fit(X_train, y_train) \n",
    "y_pred = catc.predict(X_test) "
   ]
  },
  {
   "cell_type": "code",
   "execution_count": 20,
   "id": "7a0738b2",
   "metadata": {
    "execution": {
     "iopub.execute_input": "2024-06-13T04:33:31.717869Z",
     "iopub.status.busy": "2024-06-13T04:33:31.717420Z",
     "iopub.status.idle": "2024-06-13T04:33:31.725384Z",
     "shell.execute_reply": "2024-06-13T04:33:31.724498Z"
    },
    "papermill": {
     "duration": 0.028918,
     "end_time": "2024-06-13T04:33:31.727793",
     "exception": false,
     "start_time": "2024-06-13T04:33:31.698875",
     "status": "completed"
    },
    "tags": []
   },
   "outputs": [],
   "source": [
    "cm = confusion_matrix(y_test,y_pred)"
   ]
  },
  {
   "cell_type": "code",
   "execution_count": 21,
   "id": "1eec7ea2",
   "metadata": {
    "execution": {
     "iopub.execute_input": "2024-06-13T04:33:31.765457Z",
     "iopub.status.busy": "2024-06-13T04:33:31.764342Z",
     "iopub.status.idle": "2024-06-13T04:33:32.078899Z",
     "shell.execute_reply": "2024-06-13T04:33:32.077702Z"
    },
    "papermill": {
     "duration": 0.335625,
     "end_time": "2024-06-13T04:33:32.081170",
     "exception": false,
     "start_time": "2024-06-13T04:33:31.745545",
     "status": "completed"
    },
    "tags": []
   },
   "outputs": [
    {
     "data": {
      "text/plain": [
       "<Axes: >"
      ]
     },
     "execution_count": 21,
     "metadata": {},
     "output_type": "execute_result"
    },
    {
     "data": {
      "image/png": "[encoded data removed]",
      "text/plain": [
       "<Figure size 640x480 with 2 Axes>"
      ]
     },
     "metadata": {},
     "output_type": "display_data"
    }
   ],
   "source": [
    "sns.heatmap(cm,annot=True,fmt='g',linewidth=0.1,linecolor='black',xticklabels=['0','1'],yticklabels=['0','1'],\n",
    "            cmap=\"Blues\")"
   ]
  },
  {
   "cell_type": "code",
   "execution_count": 22,
   "id": "0c3b509a",
   "metadata": {
    "execution": {
     "iopub.execute_input": "2024-06-13T04:33:32.120462Z",
     "iopub.status.busy": "2024-06-13T04:33:32.119975Z",
     "iopub.status.idle": "2024-06-13T04:33:32.136045Z",
     "shell.execute_reply": "2024-06-13T04:33:32.134964Z"
    },
    "papermill": {
     "duration": 0.038604,
     "end_time": "2024-06-13T04:33:32.138550",
     "exception": false,
     "start_time": "2024-06-13T04:33:32.099946",
     "status": "completed"
    },
    "tags": []
   },
   "outputs": [
    {
     "name": "stdout",
     "output_type": "stream",
     "text": [
      "0.9214325328134715\n",
      "0.9232127592567598\n",
      "0.920169287118099\n"
     ]
    }
   ],
   "source": [
    "print(f1_score(y_test, y_pred, average=\"macro\"))\n",
    "print(precision_score(y_test, y_pred, average=\"macro\"))\n",
    "print(recall_score(y_test, y_pred, average=\"macro\"))"
   ]
  },
  {
   "cell_type": "code",
   "execution_count": 23,
   "id": "9a65b112",
   "metadata": {
    "execution": {
     "iopub.execute_input": "2024-06-13T04:33:32.177758Z",
     "iopub.status.busy": "2024-06-13T04:33:32.176873Z",
     "iopub.status.idle": "2024-06-13T04:33:32.185623Z",
     "shell.execute_reply": "2024-06-13T04:33:32.184486Z"
    },
    "papermill": {
     "duration": 0.031161,
     "end_time": "2024-06-13T04:33:32.188096",
     "exception": false,
     "start_time": "2024-06-13T04:33:32.156935",
     "status": "completed"
    },
    "tags": []
   },
   "outputs": [],
   "source": [
    "X_train, X_val, y_train, y_val = train_test_split(X, Y, test_size=0.15, random_state=42)"
   ]
  },
  {
   "cell_type": "code",
   "execution_count": 24,
   "id": "822c8d34",
   "metadata": {
    "execution": {
     "iopub.execute_input": "2024-06-13T04:33:32.227328Z",
     "iopub.status.busy": "2024-06-13T04:33:32.226332Z",
     "iopub.status.idle": "2024-06-13T04:33:32.347882Z",
     "shell.execute_reply": "2024-06-13T04:33:32.346794Z"
    },
    "papermill": {
     "duration": 0.143883,
     "end_time": "2024-06-13T04:33:32.350347",
     "exception": false,
     "start_time": "2024-06-13T04:33:32.206464",
     "status": "completed"
    },
    "tags": []
   },
   "outputs": [
    {
     "name": "stderr",
     "output_type": "stream",
     "text": [
      "/opt/conda/lib/python3.10/site-packages/keras/src/layers/core/dense.py:87: UserWarning: Do not pass an `input_shape`/`input_dim` argument to a layer. When using Sequential models, prefer using an `Input(shape)` object as the first layer in the model instead.\n",
      "  super().__init__(activity_regularizer=activity_regularizer, **kwargs)\n"
     ]
    },
    {
     "data": {
      "text/html": [
       "<pre style=\"white-space:pre;overflow-x:auto;line-height:normal;font-family:Menlo,'DejaVu Sans Mono',consolas,'Courier New',monospace\"><span style=\"font-weight: bold\">Model: \"sequential\"</span>\n",
       "</pre>\n"
      ],
      "text/plain": [
       "\u001b[1mModel: \"sequential\"\u001b[0m\n"
      ]
     },
     "metadata": {},
     "output_type": "display_data"
    },
    {
     "data": {
      "text/html": [
       "<pre style=\"white-space:pre;overflow-x:auto;line-height:normal;font-family:Menlo,'DejaVu Sans Mono',consolas,'Courier New',monospace\">┏━━━━━━━━━━━━━━━━━━━━━━━━━━━━━━━━━┳━━━━━━━━━━━━━━━━━━━━━━━━┳━━━━━━━━━━━━━━━┓\n",
       "┃<span style=\"font-weight: bold\"> Layer (type)                    </span>┃<span style=\"font-weight: bold\"> Output Shape           </span>┃<span style=\"font-weight: bold\">       Param # </span>┃\n",
       "┡━━━━━━━━━━━━━━━━━━━━━━━━━━━━━━━━━╇━━━━━━━━━━━━━━━━━━━━━━━━╇━━━━━━━━━━━━━━━┩\n",
       "│ dense (<span style=\"color: #0087ff; text-decoration-color: #0087ff\">Dense</span>)                   │ (<span style=\"color: #00d7ff; text-decoration-color: #00d7ff\">None</span>, <span style=\"color: #00af00; text-decoration-color: #00af00\">10</span>)             │           <span style=\"color: #00af00; text-decoration-color: #00af00\">110</span> │\n",
       "├─────────────────────────────────┼────────────────────────┼───────────────┤\n",
       "│ dense_1 (<span style=\"color: #0087ff; text-decoration-color: #0087ff\">Dense</span>)                 │ (<span style=\"color: #00d7ff; text-decoration-color: #00d7ff\">None</span>, <span style=\"color: #00af00; text-decoration-color: #00af00\">8</span>)              │            <span style=\"color: #00af00; text-decoration-color: #00af00\">88</span> │\n",
       "├─────────────────────────────────┼────────────────────────┼───────────────┤\n",
       "│ dense_2 (<span style=\"color: #0087ff; text-decoration-color: #0087ff\">Dense</span>)                 │ (<span style=\"color: #00d7ff; text-decoration-color: #00d7ff\">None</span>, <span style=\"color: #00af00; text-decoration-color: #00af00\">4</span>)              │            <span style=\"color: #00af00; text-decoration-color: #00af00\">36</span> │\n",
       "├─────────────────────────────────┼────────────────────────┼───────────────┤\n",
       "│ dense_3 (<span style=\"color: #0087ff; text-decoration-color: #0087ff\">Dense</span>)                 │ (<span style=\"color: #00d7ff; text-decoration-color: #00d7ff\">None</span>, <span style=\"color: #00af00; text-decoration-color: #00af00\">1</span>)              │             <span style=\"color: #00af00; text-decoration-color: #00af00\">5</span> │\n",
       "└─────────────────────────────────┴────────────────────────┴───────────────┘\n",
       "</pre>\n"
      ],
      "text/plain": [
       "┏━━━━━━━━━━━━━━━━━━━━━━━━━━━━━━━━━┳━━━━━━━━━━━━━━━━━━━━━━━━┳━━━━━━━━━━━━━━━┓\n",
       "┃\u001b[1m \u001b[0m\u001b[1mLayer (type)                   \u001b[0m\u001b[1m \u001b[0m┃\u001b[1m \u001b[0m\u001b[1mOutput Shape          \u001b[0m\u001b[1m \u001b[0m┃\u001b[1m \u001b[0m\u001b[1m      Param #\u001b[0m\u001b[1m \u001b[0m┃\n",
       "┡━━━━━━━━━━━━━━━━━━━━━━━━━━━━━━━━━╇━━━━━━━━━━━━━━━━━━━━━━━━╇━━━━━━━━━━━━━━━┩\n",
       "│ dense (\u001b[38;5;33mDense\u001b[0m)                   │ (\u001b[38;5;45mNone\u001b[0m, \u001b[38;5;34m10\u001b[0m)             │           \u001b[38;5;34m110\u001b[0m │\n",
       "├─────────────────────────────────┼────────────────────────┼───────────────┤\n",
       "│ dense_1 (\u001b[38;5;33mDense\u001b[0m)                 │ (\u001b[38;5;45mNone\u001b[0m, \u001b[38;5;34m8\u001b[0m)              │            \u001b[38;5;34m88\u001b[0m │\n",
       "├─────────────────────────────────┼────────────────────────┼───────────────┤\n",
       "│ dense_2 (\u001b[38;5;33mDense\u001b[0m)                 │ (\u001b[38;5;45mNone\u001b[0m, \u001b[38;5;34m4\u001b[0m)              │            \u001b[38;5;34m36\u001b[0m │\n",
       "├─────────────────────────────────┼────────────────────────┼───────────────┤\n",
       "│ dense_3 (\u001b[38;5;33mDense\u001b[0m)                 │ (\u001b[38;5;45mNone\u001b[0m, \u001b[38;5;34m1\u001b[0m)              │             \u001b[38;5;34m5\u001b[0m │\n",
       "└─────────────────────────────────┴────────────────────────┴───────────────┘\n"
      ]
     },
     "metadata": {},
     "output_type": "display_data"
    },
    {
     "data": {
      "text/html": [
       "<pre style=\"white-space:pre;overflow-x:auto;line-height:normal;font-family:Menlo,'DejaVu Sans Mono',consolas,'Courier New',monospace\"><span style=\"font-weight: bold\"> Total params: </span><span style=\"color: #00af00; text-decoration-color: #00af00\">239</span> (956.00 B)\n",
       "</pre>\n"
      ],
      "text/plain": [
       "\u001b[1m Total params: \u001b[0m\u001b[38;5;34m239\u001b[0m (956.00 B)\n"
      ]
     },
     "metadata": {},
     "output_type": "display_data"
    },
    {
     "data": {
      "text/html": [
       "<pre style=\"white-space:pre;overflow-x:auto;line-height:normal;font-family:Menlo,'DejaVu Sans Mono',consolas,'Courier New',monospace\"><span style=\"font-weight: bold\"> Trainable params: </span><span style=\"color: #00af00; text-decoration-color: #00af00\">239</span> (956.00 B)\n",
       "</pre>\n"
      ],
      "text/plain": [
       "\u001b[1m Trainable params: \u001b[0m\u001b[38;5;34m239\u001b[0m (956.00 B)\n"
      ]
     },
     "metadata": {},
     "output_type": "display_data"
    },
    {
     "data": {
      "text/html": [
       "<pre style=\"white-space:pre;overflow-x:auto;line-height:normal;font-family:Menlo,'DejaVu Sans Mono',consolas,'Courier New',monospace\"><span style=\"font-weight: bold\"> Non-trainable params: </span><span style=\"color: #00af00; text-decoration-color: #00af00\">0</span> (0.00 B)\n",
       "</pre>\n"
      ],
      "text/plain": [
       "\u001b[1m Non-trainable params: \u001b[0m\u001b[38;5;34m0\u001b[0m (0.00 B)\n"
      ]
     },
     "metadata": {},
     "output_type": "display_data"
    }
   ],
   "source": [
    "model = Sequential()\n",
    "\n",
    "# The Input Layer :\n",
    "#model.add(InputLayer(shape=(X_train.shape[1],)))\n",
    "model.add(Dense(10, kernel_initializer='normal',input_dim = 10, activation='relu'))\n",
    "#model.add(GRU(64, activation='relu', return_sequences=True))\n",
    "# The Hidden Layers :\n",
    "model.add(Dense(8, kernel_initializer='normal',activation='relu'))\n",
    "#NN_model.add(Dense(16, kernel_initializer='normal',activation='relu'))\n",
    "#NN_model.add(Dense(8, kernel_initializer='normal',activation='relu'))\n",
    "model.add(Dense(4, kernel_initializer='normal',activation='relu'))\n",
    "\n",
    "# The Output Layer :\n",
    "model.add(Dense(1, kernel_initializer='normal',activation='sigmoid'))\n",
    "\n",
    "# Compile the network :\n",
    "model.summary()"
   ]
  },
  {
   "cell_type": "code",
   "execution_count": 25,
   "id": "d9c88341",
   "metadata": {
    "execution": {
     "iopub.execute_input": "2024-06-13T04:33:32.393800Z",
     "iopub.status.busy": "2024-06-13T04:33:32.392893Z",
     "iopub.status.idle": "2024-06-13T04:33:32.409010Z",
     "shell.execute_reply": "2024-06-13T04:33:32.408130Z"
    },
    "papermill": {
     "duration": 0.041177,
     "end_time": "2024-06-13T04:33:32.411332",
     "exception": false,
     "start_time": "2024-06-13T04:33:32.370155",
     "status": "completed"
    },
    "tags": []
   },
   "outputs": [],
   "source": [
    "model.compile(loss='binary_crossentropy',\n",
    "              optimizer=tf.keras.optimizers.Adam(learning_rate=0.001),\n",
    "              metrics=['accuracy'])"
   ]
  },
  {
   "cell_type": "code",
   "execution_count": 26,
   "id": "e12a2eb9",
   "metadata": {
    "execution": {
     "iopub.execute_input": "2024-06-13T04:33:32.452358Z",
     "iopub.status.busy": "2024-06-13T04:33:32.451528Z",
     "iopub.status.idle": "2024-06-13T04:33:32.457592Z",
     "shell.execute_reply": "2024-06-13T04:33:32.456633Z"
    },
    "papermill": {
     "duration": 0.029077,
     "end_time": "2024-06-13T04:33:32.459819",
     "exception": false,
     "start_time": "2024-06-13T04:33:32.430742",
     "status": "completed"
    },
    "tags": []
   },
   "outputs": [],
   "source": [
    "lr_reducer = ReduceLROnPlateau(monitor='val_accuracy', factor=0.2, patience=2, min_lr=10e-7, cooldown=1, verbose=1)\n",
    "early_stopper = EarlyStopping(monitor='val_accuracy', min_delta=0, patience=10, verbose=1)\n",
    "callbacks= [lr_reducer, early_stopper]"
   ]
  },
  {
   "cell_type": "code",
   "execution_count": 27,
   "id": "d7bb159d",
   "metadata": {
    "execution": {
     "iopub.execute_input": "2024-06-13T04:33:32.500167Z",
     "iopub.status.busy": "2024-06-13T04:33:32.499267Z",
     "iopub.status.idle": "2024-06-13T04:33:32.506267Z",
     "shell.execute_reply": "2024-06-13T04:33:32.505321Z"
    },
    "papermill": {
     "duration": 0.029692,
     "end_time": "2024-06-13T04:33:32.508729",
     "exception": false,
     "start_time": "2024-06-13T04:33:32.479037",
     "status": "completed"
    },
    "tags": []
   },
   "outputs": [
    {
     "data": {
      "text/plain": [
       "(1445, 10)"
      ]
     },
     "execution_count": 27,
     "metadata": {},
     "output_type": "execute_result"
    }
   ],
   "source": [
    "X_train.shape"
   ]
  },
  {
   "cell_type": "code",
   "execution_count": 28,
   "id": "31881f83",
   "metadata": {
    "execution": {
     "iopub.execute_input": "2024-06-13T04:33:32.550587Z",
     "iopub.status.busy": "2024-06-13T04:33:32.550141Z",
     "iopub.status.idle": "2024-06-13T04:33:42.360313Z",
     "shell.execute_reply": "2024-06-13T04:33:42.359080Z"
    },
    "papermill": {
     "duration": 9.833761,
     "end_time": "2024-06-13T04:33:42.363133",
     "exception": false,
     "start_time": "2024-06-13T04:33:32.529372",
     "status": "completed"
    },
    "tags": []
   },
   "outputs": [
    {
     "name": "stdout",
     "output_type": "stream",
     "text": [
      "Epoch 1/200\n",
      "\u001b[1m91/91\u001b[0m \u001b[32m━━━━━━━━━━━━━━━━━━━━\u001b[0m\u001b[37m\u001b[0m \u001b[1m2s\u001b[0m 4ms/step - accuracy: 0.5640 - loss: 0.6924 - val_accuracy: 0.5176 - val_loss: 0.6903 - learning_rate: 0.0010\n",
      "Epoch 2/200\n",
      "\u001b[1m91/91\u001b[0m \u001b[32m━━━━━━━━━━━━━━━━━━━━\u001b[0m\u001b[37m\u001b[0m \u001b[1m0s\u001b[0m 2ms/step - accuracy: 0.5649 - loss: 0.6808 - val_accuracy: 0.5176 - val_loss: 0.6764 - learning_rate: 0.0010\n",
      "Epoch 3/200\n",
      "\u001b[1m67/91\u001b[0m \u001b[32m━━━━━━━━━━━━━━\u001b[0m\u001b[37m━━━━━━\u001b[0m \u001b[1m0s\u001b[0m 2ms/step - accuracy: 0.5757 - loss: 0.6504\n",
      "Epoch 3: ReduceLROnPlateau reducing learning rate to 0.00020000000949949026.\n",
      "\u001b[1m91/91\u001b[0m \u001b[32m━━━━━━━━━━━━━━━━━━━━\u001b[0m\u001b[37m\u001b[0m \u001b[1m0s\u001b[0m 2ms/step - accuracy: 0.5719 - loss: 0.6499 - val_accuracy: 0.5176 - val_loss: 0.6524 - learning_rate: 0.0010\n",
      "Epoch 4/200\n",
      "\u001b[1m91/91\u001b[0m \u001b[32m━━━━━━━━━━━━━━━━━━━━\u001b[0m\u001b[37m\u001b[0m \u001b[1m0s\u001b[0m 2ms/step - accuracy: 0.5492 - loss: 0.6409 - val_accuracy: 0.5373 - val_loss: 0.6466 - learning_rate: 2.0000e-04\n",
      "Epoch 5/200\n",
      "\u001b[1m91/91\u001b[0m \u001b[32m━━━━━━━━━━━━━━━━━━━━\u001b[0m\u001b[37m\u001b[0m \u001b[1m0s\u001b[0m 2ms/step - accuracy: 0.5850 - loss: 0.6262 - val_accuracy: 0.5373 - val_loss: 0.6411 - learning_rate: 2.0000e-04\n",
      "Epoch 6/200\n",
      "\u001b[1m91/91\u001b[0m \u001b[32m━━━━━━━━━━━━━━━━━━━━\u001b[0m\u001b[37m\u001b[0m \u001b[1m0s\u001b[0m 2ms/step - accuracy: 0.6060 - loss: 0.6146 - val_accuracy: 0.5647 - val_loss: 0.6343 - learning_rate: 2.0000e-04\n",
      "Epoch 7/200\n",
      "\u001b[1m91/91\u001b[0m \u001b[32m━━━━━━━━━━━━━━━━━━━━\u001b[0m\u001b[37m\u001b[0m \u001b[1m0s\u001b[0m 2ms/step - accuracy: 0.6184 - loss: 0.6057 - val_accuracy: 0.5804 - val_loss: 0.6282 - learning_rate: 2.0000e-04\n",
      "Epoch 8/200\n",
      "\u001b[1m91/91\u001b[0m \u001b[32m━━━━━━━━━━━━━━━━━━━━\u001b[0m\u001b[37m\u001b[0m \u001b[1m0s\u001b[0m 2ms/step - accuracy: 0.6182 - loss: 0.6049 - val_accuracy: 0.5922 - val_loss: 0.6209 - learning_rate: 2.0000e-04\n",
      "Epoch 9/200\n",
      "\u001b[1m91/91\u001b[0m \u001b[32m━━━━━━━━━━━━━━━━━━━━\u001b[0m\u001b[37m\u001b[0m \u001b[1m0s\u001b[0m 2ms/step - accuracy: 0.6552 - loss: 0.5913 - val_accuracy: 0.6157 - val_loss: 0.6133 - learning_rate: 2.0000e-04\n",
      "Epoch 10/200\n",
      "\u001b[1m91/91\u001b[0m \u001b[32m━━━━━━━━━━━━━━━━━━━━\u001b[0m\u001b[37m\u001b[0m \u001b[1m0s\u001b[0m 2ms/step - accuracy: 0.6765 - loss: 0.5867 - val_accuracy: 0.6078 - val_loss: 0.6063 - learning_rate: 2.0000e-04\n",
      "Epoch 11/200\n",
      "\u001b[1m91/91\u001b[0m \u001b[32m━━━━━━━━━━━━━━━━━━━━\u001b[0m\u001b[37m\u001b[0m \u001b[1m0s\u001b[0m 2ms/step - accuracy: 0.7086 - loss: 0.5660 - val_accuracy: 0.6510 - val_loss: 0.5987 - learning_rate: 2.0000e-04\n",
      "Epoch 12/200\n",
      "\u001b[1m91/91\u001b[0m \u001b[32m━━━━━━━━━━━━━━━━━━━━\u001b[0m\u001b[37m\u001b[0m \u001b[1m0s\u001b[0m 2ms/step - accuracy: 0.7032 - loss: 0.5794 - val_accuracy: 0.6627 - val_loss: 0.5919 - learning_rate: 2.0000e-04\n",
      "Epoch 13/200\n",
      "\u001b[1m91/91\u001b[0m \u001b[32m━━━━━━━━━━━━━━━━━━━━\u001b[0m\u001b[37m\u001b[0m \u001b[1m0s\u001b[0m 2ms/step - accuracy: 0.7377 - loss: 0.5669 - val_accuracy: 0.6706 - val_loss: 0.5839 - learning_rate: 2.0000e-04\n",
      "Epoch 14/200\n",
      "\u001b[1m91/91\u001b[0m \u001b[32m━━━━━━━━━━━━━━━━━━━━\u001b[0m\u001b[37m\u001b[0m \u001b[1m0s\u001b[0m 2ms/step - accuracy: 0.7340 - loss: 0.5569 - val_accuracy: 0.6784 - val_loss: 0.5769 - learning_rate: 2.0000e-04\n",
      "Epoch 15/200\n",
      "\u001b[1m91/91\u001b[0m \u001b[32m━━━━━━━━━━━━━━━━━━━━\u001b[0m\u001b[37m\u001b[0m \u001b[1m0s\u001b[0m 2ms/step - accuracy: 0.7464 - loss: 0.5483 - val_accuracy: 0.6902 - val_loss: 0.5695 - learning_rate: 2.0000e-04\n",
      "Epoch 16/200\n",
      "\u001b[1m91/91\u001b[0m \u001b[32m━━━━━━━━━━━━━━━━━━━━\u001b[0m\u001b[37m\u001b[0m \u001b[1m0s\u001b[0m 2ms/step - accuracy: 0.7696 - loss: 0.5465 - val_accuracy: 0.6941 - val_loss: 0.5617 - learning_rate: 2.0000e-04\n",
      "Epoch 17/200\n",
      "\u001b[1m91/91\u001b[0m \u001b[32m━━━━━━━━━━━━━━━━━━━━\u001b[0m\u001b[37m\u001b[0m \u001b[1m0s\u001b[0m 2ms/step - accuracy: 0.7546 - loss: 0.5350 - val_accuracy: 0.6863 - val_loss: 0.5546 - learning_rate: 2.0000e-04\n",
      "Epoch 18/200\n",
      "\u001b[1m91/91\u001b[0m \u001b[32m━━━━━━━━━━━━━━━━━━━━\u001b[0m\u001b[37m\u001b[0m \u001b[1m0s\u001b[0m 2ms/step - accuracy: 0.7601 - loss: 0.5276 - val_accuracy: 0.7059 - val_loss: 0.5467 - learning_rate: 2.0000e-04\n",
      "Epoch 19/200\n",
      "\u001b[1m91/91\u001b[0m \u001b[32m━━━━━━━━━━━━━━━━━━━━\u001b[0m\u001b[37m\u001b[0m \u001b[1m0s\u001b[0m 2ms/step - accuracy: 0.7635 - loss: 0.5288 - val_accuracy: 0.7137 - val_loss: 0.5403 - learning_rate: 2.0000e-04\n",
      "Epoch 20/200\n",
      "\u001b[1m91/91\u001b[0m \u001b[32m━━━━━━━━━━━━━━━━━━━━\u001b[0m\u001b[37m\u001b[0m \u001b[1m0s\u001b[0m 2ms/step - accuracy: 0.7700 - loss: 0.5185 - val_accuracy: 0.7216 - val_loss: 0.5315 - learning_rate: 2.0000e-04\n",
      "Epoch 21/200\n",
      "\u001b[1m91/91\u001b[0m \u001b[32m━━━━━━━━━━━━━━━━━━━━\u001b[0m\u001b[37m\u001b[0m \u001b[1m0s\u001b[0m 2ms/step - accuracy: 0.7958 - loss: 0.5032 - val_accuracy: 0.7216 - val_loss: 0.5260 - learning_rate: 2.0000e-04\n",
      "Epoch 22/200\n",
      "\u001b[1m91/91\u001b[0m \u001b[32m━━━━━━━━━━━━━━━━━━━━\u001b[0m\u001b[37m\u001b[0m \u001b[1m0s\u001b[0m 2ms/step - accuracy: 0.7871 - loss: 0.5088 - val_accuracy: 0.7294 - val_loss: 0.5210 - learning_rate: 2.0000e-04\n",
      "Epoch 23/200\n",
      "\u001b[1m91/91\u001b[0m \u001b[32m━━━━━━━━━━━━━━━━━━━━\u001b[0m\u001b[37m\u001b[0m \u001b[1m0s\u001b[0m 2ms/step - accuracy: 0.7711 - loss: 0.5009 - val_accuracy: 0.7451 - val_loss: 0.5130 - learning_rate: 2.0000e-04\n",
      "Epoch 24/200\n",
      "\u001b[1m91/91\u001b[0m \u001b[32m━━━━━━━━━━━━━━━━━━━━\u001b[0m\u001b[37m\u001b[0m \u001b[1m0s\u001b[0m 2ms/step - accuracy: 0.7856 - loss: 0.5014 - val_accuracy: 0.7490 - val_loss: 0.5073 - learning_rate: 2.0000e-04\n",
      "Epoch 25/200\n",
      "\u001b[1m91/91\u001b[0m \u001b[32m━━━━━━━━━━━━━━━━━━━━\u001b[0m\u001b[37m\u001b[0m \u001b[1m0s\u001b[0m 2ms/step - accuracy: 0.7873 - loss: 0.4901 - val_accuracy: 0.7569 - val_loss: 0.5002 - learning_rate: 2.0000e-04\n",
      "Epoch 26/200\n",
      "\u001b[1m91/91\u001b[0m \u001b[32m━━━━━━━━━━━━━━━━━━━━\u001b[0m\u001b[37m\u001b[0m \u001b[1m0s\u001b[0m 2ms/step - accuracy: 0.7921 - loss: 0.4870 - val_accuracy: 0.7569 - val_loss: 0.4947 - learning_rate: 2.0000e-04\n",
      "Epoch 27/200\n",
      "\u001b[1m82/91\u001b[0m \u001b[32m━━━━━━━━━━━━━━━━━━\u001b[0m\u001b[37m━━\u001b[0m \u001b[1m0s\u001b[0m 2ms/step - accuracy: 0.8003 - loss: 0.4677\n",
      "Epoch 27: ReduceLROnPlateau reducing learning rate to 4.0000001899898055e-05.\n",
      "\u001b[1m91/91\u001b[0m \u001b[32m━━━━━━━━━━━━━━━━━━━━\u001b[0m\u001b[37m\u001b[0m \u001b[1m0s\u001b[0m 2ms/step - accuracy: 0.7998 - loss: 0.4687 - val_accuracy: 0.7529 - val_loss: 0.4884 - learning_rate: 2.0000e-04\n",
      "Epoch 28/200\n",
      "\u001b[1m91/91\u001b[0m \u001b[32m━━━━━━━━━━━━━━━━━━━━\u001b[0m\u001b[37m\u001b[0m \u001b[1m0s\u001b[0m 3ms/step - accuracy: 0.7867 - loss: 0.4786 - val_accuracy: 0.7569 - val_loss: 0.4878 - learning_rate: 4.0000e-05\n",
      "Epoch 29/200\n",
      "\u001b[1m81/91\u001b[0m \u001b[32m━━━━━━━━━━━━━━━━━\u001b[0m\u001b[37m━━━\u001b[0m \u001b[1m0s\u001b[0m 2ms/step - accuracy: 0.7708 - loss: 0.5058\n",
      "Epoch 29: ReduceLROnPlateau reducing learning rate to 8.000000525498762e-06.\n",
      "\u001b[1m91/91\u001b[0m \u001b[32m━━━━━━━━━━━━━━━━━━━━\u001b[0m\u001b[37m\u001b[0m \u001b[1m0s\u001b[0m 2ms/step - accuracy: 0.7743 - loss: 0.5015 - val_accuracy: 0.7569 - val_loss: 0.4874 - learning_rate: 4.0000e-05\n",
      "Epoch 30/200\n",
      "\u001b[1m91/91\u001b[0m \u001b[32m━━━━━━━━━━━━━━━━━━━━\u001b[0m\u001b[37m\u001b[0m \u001b[1m0s\u001b[0m 2ms/step - accuracy: 0.8156 - loss: 0.4567 - val_accuracy: 0.7569 - val_loss: 0.4872 - learning_rate: 8.0000e-06\n",
      "Epoch 31/200\n",
      "\u001b[1m83/91\u001b[0m \u001b[32m━━━━━━━━━━━━━━━━━━\u001b[0m\u001b[37m━━\u001b[0m \u001b[1m0s\u001b[0m 2ms/step - accuracy: 0.8151 - loss: 0.4610\n",
      "Epoch 31: ReduceLROnPlateau reducing learning rate to 1.6000001778593287e-06.\n",
      "\u001b[1m91/91\u001b[0m \u001b[32m━━━━━━━━━━━━━━━━━━━━\u001b[0m\u001b[37m\u001b[0m \u001b[1m0s\u001b[0m 3ms/step - accuracy: 0.8139 - loss: 0.4616 - val_accuracy: 0.7569 - val_loss: 0.4870 - learning_rate: 8.0000e-06\n",
      "Epoch 32/200\n",
      "\u001b[1m91/91\u001b[0m \u001b[32m━━━━━━━━━━━━━━━━━━━━\u001b[0m\u001b[37m\u001b[0m \u001b[1m0s\u001b[0m 2ms/step - accuracy: 0.8024 - loss: 0.4654 - val_accuracy: 0.7569 - val_loss: 0.4869 - learning_rate: 1.6000e-06\n",
      "Epoch 33/200\n",
      "\u001b[1m70/91\u001b[0m \u001b[32m━━━━━━━━━━━━━━━\u001b[0m\u001b[37m━━━━━\u001b[0m \u001b[1m0s\u001b[0m 1ms/step - accuracy: 0.8160 - loss: 0.4495\n",
      "Epoch 33: ReduceLROnPlateau reducing learning rate to 1e-06.\n",
      "\u001b[1m91/91\u001b[0m \u001b[32m━━━━━━━━━━━━━━━━━━━━\u001b[0m\u001b[37m\u001b[0m \u001b[1m0s\u001b[0m 2ms/step - accuracy: 0.8129 - loss: 0.4540 - val_accuracy: 0.7569 - val_loss: 0.4869 - learning_rate: 1.6000e-06\n",
      "Epoch 34/200\n",
      "\u001b[1m91/91\u001b[0m \u001b[32m━━━━━━━━━━━━━━━━━━━━\u001b[0m\u001b[37m\u001b[0m \u001b[1m0s\u001b[0m 2ms/step - accuracy: 0.8024 - loss: 0.4684 - val_accuracy: 0.7569 - val_loss: 0.4869 - learning_rate: 1.0000e-06\n",
      "Epoch 35/200\n",
      "\u001b[1m91/91\u001b[0m \u001b[32m━━━━━━━━━━━━━━━━━━━━\u001b[0m\u001b[37m\u001b[0m \u001b[1m0s\u001b[0m 2ms/step - accuracy: 0.7834 - loss: 0.4791 - val_accuracy: 0.7569 - val_loss: 0.4869 - learning_rate: 1.0000e-06\n",
      "Epoch 35: early stopping\n"
     ]
    }
   ],
   "source": [
    "history=model.fit(X_train,y_train,batch_size=16,epochs=200,validation_data=(X_val,y_val),callbacks=callbacks)\n",
    "#validation_data=(X_val,y_val)"
   ]
  },
  {
   "cell_type": "code",
   "execution_count": 29,
   "id": "2a796006",
   "metadata": {
    "execution": {
     "iopub.execute_input": "2024-06-13T04:33:42.445359Z",
     "iopub.status.busy": "2024-06-13T04:33:42.444896Z",
     "iopub.status.idle": "2024-06-13T04:33:42.652038Z",
     "shell.execute_reply": "2024-06-13T04:33:42.650888Z"
    },
    "papermill": {
     "duration": 0.253253,
     "end_time": "2024-06-13T04:33:42.654985",
     "exception": false,
     "start_time": "2024-06-13T04:33:42.401732",
     "status": "completed"
    },
    "tags": []
   },
   "outputs": [
    {
     "name": "stdout",
     "output_type": "stream",
     "text": [
      "\u001b[1m14/14\u001b[0m \u001b[32m━━━━━━━━━━━━━━━━━━━━\u001b[0m\u001b[37m\u001b[0m \u001b[1m0s\u001b[0m 5ms/step\n"
     ]
    }
   ],
   "source": [
    "y_pred = model.predict(X_test)"
   ]
  },
  {
   "cell_type": "code",
   "execution_count": 30,
   "id": "caa455a5",
   "metadata": {
    "execution": {
     "iopub.execute_input": "2024-06-13T04:33:42.734135Z",
     "iopub.status.busy": "2024-06-13T04:33:42.733657Z",
     "iopub.status.idle": "2024-06-13T04:33:42.738753Z",
     "shell.execute_reply": "2024-06-13T04:33:42.737697Z"
    },
    "papermill": {
     "duration": 0.0475,
     "end_time": "2024-06-13T04:33:42.741114",
     "exception": false,
     "start_time": "2024-06-13T04:33:42.693614",
     "status": "completed"
    },
    "tags": []
   },
   "outputs": [],
   "source": [
    "#y_pred"
   ]
  },
  {
   "cell_type": "code",
   "execution_count": 31,
   "id": "9b319dfc",
   "metadata": {
    "execution": {
     "iopub.execute_input": "2024-06-13T04:33:42.820668Z",
     "iopub.status.busy": "2024-06-13T04:33:42.820188Z",
     "iopub.status.idle": "2024-06-13T04:33:42.825848Z",
     "shell.execute_reply": "2024-06-13T04:33:42.824676Z"
    },
    "papermill": {
     "duration": 0.048135,
     "end_time": "2024-06-13T04:33:42.828171",
     "exception": false,
     "start_time": "2024-06-13T04:33:42.780036",
     "status": "completed"
    },
    "tags": []
   },
   "outputs": [],
   "source": [
    "y_pred=np.rint(y_pred)"
   ]
  },
  {
   "cell_type": "code",
   "execution_count": 32,
   "id": "64be76fe",
   "metadata": {
    "execution": {
     "iopub.execute_input": "2024-06-13T04:33:42.908028Z",
     "iopub.status.busy": "2024-06-13T04:33:42.907045Z",
     "iopub.status.idle": "2024-06-13T04:33:42.912085Z",
     "shell.execute_reply": "2024-06-13T04:33:42.910999Z"
    },
    "papermill": {
     "duration": 0.047487,
     "end_time": "2024-06-13T04:33:42.914402",
     "exception": false,
     "start_time": "2024-06-13T04:33:42.866915",
     "status": "completed"
    },
    "tags": []
   },
   "outputs": [],
   "source": [
    "#y_pred"
   ]
  },
  {
   "cell_type": "code",
   "execution_count": 33,
   "id": "77b1ce29",
   "metadata": {
    "execution": {
     "iopub.execute_input": "2024-06-13T04:33:43.082353Z",
     "iopub.status.busy": "2024-06-13T04:33:43.081903Z",
     "iopub.status.idle": "2024-06-13T04:33:43.089707Z",
     "shell.execute_reply": "2024-06-13T04:33:43.088703Z"
    },
    "papermill": {
     "duration": 0.138743,
     "end_time": "2024-06-13T04:33:43.091946",
     "exception": false,
     "start_time": "2024-06-13T04:33:42.953203",
     "status": "completed"
    },
    "tags": []
   },
   "outputs": [],
   "source": [
    "cm = confusion_matrix(y_test, y_pred, labels=[0, 1])"
   ]
  },
  {
   "cell_type": "code",
   "execution_count": 34,
   "id": "3220e287",
   "metadata": {
    "execution": {
     "iopub.execute_input": "2024-06-13T04:33:43.170186Z",
     "iopub.status.busy": "2024-06-13T04:33:43.169759Z",
     "iopub.status.idle": "2024-06-13T04:33:43.176919Z",
     "shell.execute_reply": "2024-06-13T04:33:43.175870Z"
    },
    "papermill": {
     "duration": 0.049035,
     "end_time": "2024-06-13T04:33:43.179271",
     "exception": false,
     "start_time": "2024-06-13T04:33:43.130236",
     "status": "completed"
    },
    "tags": []
   },
   "outputs": [
    {
     "data": {
      "text/plain": [
       "array([[120,  73],\n",
       "       [ 33, 199]])"
      ]
     },
     "execution_count": 34,
     "metadata": {},
     "output_type": "execute_result"
    }
   ],
   "source": [
    "cm"
   ]
  },
  {
   "cell_type": "code",
   "execution_count": 35,
   "id": "73e32c35",
   "metadata": {
    "execution": {
     "iopub.execute_input": "2024-06-13T04:33:43.259537Z",
     "iopub.status.busy": "2024-06-13T04:33:43.258222Z",
     "iopub.status.idle": "2024-06-13T04:33:44.035306Z",
     "shell.execute_reply": "2024-06-13T04:33:44.034072Z"
    },
    "papermill": {
     "duration": 0.81957,
     "end_time": "2024-06-13T04:33:44.037757",
     "exception": false,
     "start_time": "2024-06-13T04:33:43.218187",
     "status": "completed"
    },
    "tags": []
   },
   "outputs": [
    {
     "data": {
      "text/plain": [
       "<Axes: >"
      ]
     },
     "execution_count": 35,
     "metadata": {},
     "output_type": "execute_result"
    },
    {
     "data": {
      "image/png": "[encoded data removed]",
      "text/plain": [
       "<Figure size 640x480 with 2 Axes>"
      ]
     },
     "metadata": {},
     "output_type": "display_data"
    }
   ],
   "source": [
    "sns.heatmap(cm,annot=True,fmt='g',linewidth=0.1,linecolor='black',xticklabels=['0','1'],yticklabels=['0','1'],\n",
    "            cmap=\"Blues\")"
   ]
  },
  {
   "cell_type": "code",
   "execution_count": 36,
   "id": "668abaf4",
   "metadata": {
    "execution": {
     "iopub.execute_input": "2024-06-13T04:33:44.117027Z",
     "iopub.status.busy": "2024-06-13T04:33:44.116570Z",
     "iopub.status.idle": "2024-06-13T04:33:44.133209Z",
     "shell.execute_reply": "2024-06-13T04:33:44.131775Z"
    },
    "papermill": {
     "duration": 0.05906,
     "end_time": "2024-06-13T04:33:44.135586",
     "exception": false,
     "start_time": "2024-06-13T04:33:44.076526",
     "status": "completed"
    },
    "tags": []
   },
   "outputs": [
    {
     "name": "stdout",
     "output_type": "stream",
     "text": [
      "0.7416620790898247\n",
      "0.7579656862745098\n",
      "0.7397601393603717\n"
     ]
    }
   ],
   "source": [
    "print(f1_score(y_test, y_pred, average=\"macro\"))\n",
    "print(precision_score(y_test, y_pred, average=\"macro\"))\n",
    "print(recall_score(y_test, y_pred, average=\"macro\"))"
   ]
  },
  {
   "cell_type": "markdown",
   "id": "4fa5efe2",
   "metadata": {
    "papermill": {
     "duration": 0.038877,
     "end_time": "2024-06-13T04:33:44.218606",
     "exception": false,
     "start_time": "2024-06-13T04:33:44.179729",
     "status": "completed"
    },
    "tags": []
   },
   "source": [
    "Best performance with catboost with 92 F1 score"
   ]
  }
 ],
 "metadata": {
  "kaggle": {
   "accelerator": "none",
   "dataSources": [
    {
     "datasetId": 5182578,
     "sourceId": 8652019,
     "sourceType": "datasetVersion"
    }
   ],
   "dockerImageVersionId": 30732,
   "isGpuEnabled": false,
   "isInternetEnabled": true,
   "language": "python",
   "sourceType": "notebook"
  },
  "kernelspec": {
   "display_name": "Python 3",
   "language": "python",
   "name": "python3"
  },
  "language_info": {
   "codemirror_mode": {
    "name": "ipython",
    "version": 3
   },
   "file_extension": ".py",
   "mimetype": "text/x-python",
   "name": "python",
   "nbconvert_exporter": "python",
   "pygments_lexer": "ipython3",
   "version": "3.12.2"
  },
  "papermill": {
   "default_parameters": {},
   "duration": 45.104555,
   "end_time": "2024-06-13T04:33:47.867684",
   "environment_variables": {},
   "exception": null,
   "input_path": "__notebook__.ipynb",
   "output_path": "__notebook__.ipynb",
   "parameters": {},
   "start_time": "2024-06-13T04:33:02.763129",
   "version": "2.5.0"
  }
 },
 "nbformat": 4,
 "nbformat_minor": 5
}
